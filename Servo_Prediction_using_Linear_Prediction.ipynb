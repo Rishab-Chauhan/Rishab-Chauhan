{
  "nbformat": 4,
  "nbformat_minor": 0,
  "metadata": {
    "colab": {
      "provenance": [],
      "authorship_tag": "ABX9TyMdSOIazzQuIpyi3TNeUPNY",
      "include_colab_link": true
    },
    "kernelspec": {
      "name": "python3",
      "display_name": "Python 3"
    },
    "language_info": {
      "name": "python"
    }
  },
  "cells": [
    {
      "cell_type": "markdown",
      "metadata": {
        "id": "view-in-github",
        "colab_type": "text"
      },
      "source": [
        "<a href=\"https://colab.research.google.com/github/Rishab-Chauhan/Rishab-Chauhan/blob/main/Servo_Prediction_using_Linear_Prediction.ipynb\" target=\"_parent\"><img src=\"https://colab.research.google.com/assets/colab-badge.svg\" alt=\"Open In Colab\"/></a>"
      ]
    },
    {
      "cell_type": "markdown",
      "source": [
        "#**Servo Prediction using Linear Regression**\n"
      ],
      "metadata": {
        "id": "Q4bumBGNifFa"
      }
    },
    {
      "cell_type": "markdown",
      "source": [
        "## **Objective** : Get understandung about Data set\n"
      ],
      "metadata": {
        "id": "8RayW3D5lkAW"
      }
    },
    {
      "cell_type": "markdown",
      "source": [
        "In control engineering, a servomechanism, usually shortened to servo, is an automatic device that uses error-sensing negative feedback to correct the action of a mechanism. In displacement-controlled applications, it usually includes a built-in encoder or other position feedback mechanism to ensure the output is achieving the desired effect³. A servo motor is defined as a linear or rotary type of actuator that provides fast precision position control for closed-loop position control applications⁴. Servo motors are used in applications such as robotics, CNC machinery, or automated manufacturing⁵.\n",
        "\n",
        "1. Motor A,B,C,D,E\n",
        "2. Screw A,B,C,D,E\n",
        "3. Pgain 3,4,5\n",
        "4. Vgain 1,2,3,,4,5\n",
        "5. Class 0.13 to 7.10"
      ],
      "metadata": {
        "id": "U5w7vIfHlxOG"
      }
    },
    {
      "cell_type": "markdown",
      "source": [
        "#**Data Source** : Youtube channel of ybi foundation (https://youtu.be/DnR7xn0EO5A)"
      ],
      "metadata": {
        "id": "bBKOIPJuvLaw"
      }
    },
    {
      "cell_type": "markdown",
      "source": [
        "## Import Library"
      ],
      "metadata": {
        "id": "Moy_JXXqn9_K"
      }
    },
    {
      "cell_type": "code",
      "source": [
        "import pandas as pd"
      ],
      "metadata": {
        "id": "na09zQ4Uudp0"
      },
      "execution_count": null,
      "outputs": []
    },
    {
      "cell_type": "code",
      "source": [
        "import numpy as np"
      ],
      "metadata": {
        "id": "Ua5ITHsBuh22"
      },
      "execution_count": null,
      "outputs": []
    },
    {
      "cell_type": "markdown",
      "source": [
        "## Import Data\n",
        "\n",
        "\n",
        "*   Importing CSV as Data Frames\n",
        "\n",
        "\n"
      ],
      "metadata": {
        "id": "h4NICKFBunFD"
      }
    },
    {
      "cell_type": "code",
      "source": [
        "df = pd.read_csv(r'https://github.com/YBI-Foundation/Dataset/raw/main/Servo%20Mechanism.csv')"
      ],
      "metadata": {
        "id": "nyulpkUlwSqe"
      },
      "execution_count": null,
      "outputs": []
    },
    {
      "cell_type": "code",
      "source": [
        "df.head()"
      ],
      "metadata": {
        "colab": {
          "base_uri": "https://localhost:8080/",
          "height": 206
        },
        "id": "qdK6_rAOzU-T",
        "outputId": "add4dd08-7863-4fb4-c8a8-9ebc9ee553e5"
      },
      "execution_count": null,
      "outputs": [
        {
          "output_type": "execute_result",
          "data": {
            "text/plain": [
              "  Motor Screw  Pgain  Vgain  Class\n",
              "0     E     E      5      4      4\n",
              "1     B     D      6      5     11\n",
              "2     D     D      4      3      6\n",
              "3     B     A      3      2     48\n",
              "4     D     B      6      5      6"
            ],
            "text/html": [
              "\n",
              "\n",
              "  <div id=\"df-ad411c28-3431-4474-9b4f-97d3cf223f92\">\n",
              "    <div class=\"colab-df-container\">\n",
              "      <div>\n",
              "<style scoped>\n",
              "    .dataframe tbody tr th:only-of-type {\n",
              "        vertical-align: middle;\n",
              "    }\n",
              "\n",
              "    .dataframe tbody tr th {\n",
              "        vertical-align: top;\n",
              "    }\n",
              "\n",
              "    .dataframe thead th {\n",
              "        text-align: right;\n",
              "    }\n",
              "</style>\n",
              "<table border=\"1\" class=\"dataframe\">\n",
              "  <thead>\n",
              "    <tr style=\"text-align: right;\">\n",
              "      <th></th>\n",
              "      <th>Motor</th>\n",
              "      <th>Screw</th>\n",
              "      <th>Pgain</th>\n",
              "      <th>Vgain</th>\n",
              "      <th>Class</th>\n",
              "    </tr>\n",
              "  </thead>\n",
              "  <tbody>\n",
              "    <tr>\n",
              "      <th>0</th>\n",
              "      <td>E</td>\n",
              "      <td>E</td>\n",
              "      <td>5</td>\n",
              "      <td>4</td>\n",
              "      <td>4</td>\n",
              "    </tr>\n",
              "    <tr>\n",
              "      <th>1</th>\n",
              "      <td>B</td>\n",
              "      <td>D</td>\n",
              "      <td>6</td>\n",
              "      <td>5</td>\n",
              "      <td>11</td>\n",
              "    </tr>\n",
              "    <tr>\n",
              "      <th>2</th>\n",
              "      <td>D</td>\n",
              "      <td>D</td>\n",
              "      <td>4</td>\n",
              "      <td>3</td>\n",
              "      <td>6</td>\n",
              "    </tr>\n",
              "    <tr>\n",
              "      <th>3</th>\n",
              "      <td>B</td>\n",
              "      <td>A</td>\n",
              "      <td>3</td>\n",
              "      <td>2</td>\n",
              "      <td>48</td>\n",
              "    </tr>\n",
              "    <tr>\n",
              "      <th>4</th>\n",
              "      <td>D</td>\n",
              "      <td>B</td>\n",
              "      <td>6</td>\n",
              "      <td>5</td>\n",
              "      <td>6</td>\n",
              "    </tr>\n",
              "  </tbody>\n",
              "</table>\n",
              "</div>\n",
              "      <button class=\"colab-df-convert\" onclick=\"convertToInteractive('df-ad411c28-3431-4474-9b4f-97d3cf223f92')\"\n",
              "              title=\"Convert this dataframe to an interactive table.\"\n",
              "              style=\"display:none;\">\n",
              "\n",
              "  <svg xmlns=\"http://www.w3.org/2000/svg\" height=\"24px\"viewBox=\"0 0 24 24\"\n",
              "       width=\"24px\">\n",
              "    <path d=\"M0 0h24v24H0V0z\" fill=\"none\"/>\n",
              "    <path d=\"M18.56 5.44l.94 2.06.94-2.06 2.06-.94-2.06-.94-.94-2.06-.94 2.06-2.06.94zm-11 1L8.5 8.5l.94-2.06 2.06-.94-2.06-.94L8.5 2.5l-.94 2.06-2.06.94zm10 10l.94 2.06.94-2.06 2.06-.94-2.06-.94-.94-2.06-.94 2.06-2.06.94z\"/><path d=\"M17.41 7.96l-1.37-1.37c-.4-.4-.92-.59-1.43-.59-.52 0-1.04.2-1.43.59L10.3 9.45l-7.72 7.72c-.78.78-.78 2.05 0 2.83L4 21.41c.39.39.9.59 1.41.59.51 0 1.02-.2 1.41-.59l7.78-7.78 2.81-2.81c.8-.78.8-2.07 0-2.86zM5.41 20L4 18.59l7.72-7.72 1.47 1.35L5.41 20z\"/>\n",
              "  </svg>\n",
              "      </button>\n",
              "\n",
              "\n",
              "\n",
              "    <div id=\"df-8c08b1ba-7f9c-4946-9aac-8ff23ab9540e\">\n",
              "      <button class=\"colab-df-quickchart\" onclick=\"quickchart('df-8c08b1ba-7f9c-4946-9aac-8ff23ab9540e')\"\n",
              "              title=\"Suggest charts.\"\n",
              "              style=\"display:none;\">\n",
              "\n",
              "<svg xmlns=\"http://www.w3.org/2000/svg\" height=\"24px\"viewBox=\"0 0 24 24\"\n",
              "     width=\"24px\">\n",
              "    <g>\n",
              "        <path d=\"M19 3H5c-1.1 0-2 .9-2 2v14c0 1.1.9 2 2 2h14c1.1 0 2-.9 2-2V5c0-1.1-.9-2-2-2zM9 17H7v-7h2v7zm4 0h-2V7h2v10zm4 0h-2v-4h2v4z\"/>\n",
              "    </g>\n",
              "</svg>\n",
              "      </button>\n",
              "    </div>\n",
              "\n",
              "<style>\n",
              "  .colab-df-quickchart {\n",
              "    background-color: #E8F0FE;\n",
              "    border: none;\n",
              "    border-radius: 50%;\n",
              "    cursor: pointer;\n",
              "    display: none;\n",
              "    fill: #1967D2;\n",
              "    height: 32px;\n",
              "    padding: 0 0 0 0;\n",
              "    width: 32px;\n",
              "  }\n",
              "\n",
              "  .colab-df-quickchart:hover {\n",
              "    background-color: #E2EBFA;\n",
              "    box-shadow: 0px 1px 2px rgba(60, 64, 67, 0.3), 0px 1px 3px 1px rgba(60, 64, 67, 0.15);\n",
              "    fill: #174EA6;\n",
              "  }\n",
              "\n",
              "  [theme=dark] .colab-df-quickchart {\n",
              "    background-color: #3B4455;\n",
              "    fill: #D2E3FC;\n",
              "  }\n",
              "\n",
              "  [theme=dark] .colab-df-quickchart:hover {\n",
              "    background-color: #434B5C;\n",
              "    box-shadow: 0px 1px 3px 1px rgba(0, 0, 0, 0.15);\n",
              "    filter: drop-shadow(0px 1px 2px rgba(0, 0, 0, 0.3));\n",
              "    fill: #FFFFFF;\n",
              "  }\n",
              "</style>\n",
              "\n",
              "    <script>\n",
              "      async function quickchart(key) {\n",
              "        const containerElement = document.querySelector('#' + key);\n",
              "        const charts = await google.colab.kernel.invokeFunction(\n",
              "            'suggestCharts', [key], {});\n",
              "      }\n",
              "    </script>\n",
              "\n",
              "      <script>\n",
              "\n",
              "function displayQuickchartButton(domScope) {\n",
              "  let quickchartButtonEl =\n",
              "    domScope.querySelector('#df-8c08b1ba-7f9c-4946-9aac-8ff23ab9540e button.colab-df-quickchart');\n",
              "  quickchartButtonEl.style.display =\n",
              "    google.colab.kernel.accessAllowed ? 'block' : 'none';\n",
              "}\n",
              "\n",
              "        displayQuickchartButton(document);\n",
              "      </script>\n",
              "      <style>\n",
              "    .colab-df-container {\n",
              "      display:flex;\n",
              "      flex-wrap:wrap;\n",
              "      gap: 12px;\n",
              "    }\n",
              "\n",
              "    .colab-df-convert {\n",
              "      background-color: #E8F0FE;\n",
              "      border: none;\n",
              "      border-radius: 50%;\n",
              "      cursor: pointer;\n",
              "      display: none;\n",
              "      fill: #1967D2;\n",
              "      height: 32px;\n",
              "      padding: 0 0 0 0;\n",
              "      width: 32px;\n",
              "    }\n",
              "\n",
              "    .colab-df-convert:hover {\n",
              "      background-color: #E2EBFA;\n",
              "      box-shadow: 0px 1px 2px rgba(60, 64, 67, 0.3), 0px 1px 3px 1px rgba(60, 64, 67, 0.15);\n",
              "      fill: #174EA6;\n",
              "    }\n",
              "\n",
              "    [theme=dark] .colab-df-convert {\n",
              "      background-color: #3B4455;\n",
              "      fill: #D2E3FC;\n",
              "    }\n",
              "\n",
              "    [theme=dark] .colab-df-convert:hover {\n",
              "      background-color: #434B5C;\n",
              "      box-shadow: 0px 1px 3px 1px rgba(0, 0, 0, 0.15);\n",
              "      filter: drop-shadow(0px 1px 2px rgba(0, 0, 0, 0.3));\n",
              "      fill: #FFFFFF;\n",
              "    }\n",
              "  </style>\n",
              "\n",
              "      <script>\n",
              "        const buttonEl =\n",
              "          document.querySelector('#df-ad411c28-3431-4474-9b4f-97d3cf223f92 button.colab-df-convert');\n",
              "        buttonEl.style.display =\n",
              "          google.colab.kernel.accessAllowed ? 'block' : 'none';\n",
              "\n",
              "        async function convertToInteractive(key) {\n",
              "          const element = document.querySelector('#df-ad411c28-3431-4474-9b4f-97d3cf223f92');\n",
              "          const dataTable =\n",
              "            await google.colab.kernel.invokeFunction('convertToInteractive',\n",
              "                                                     [key], {});\n",
              "          if (!dataTable) return;\n",
              "\n",
              "          const docLinkHtml = 'Like what you see? Visit the ' +\n",
              "            '<a target=\"_blank\" href=https://colab.research.google.com/notebooks/data_table.ipynb>data table notebook</a>'\n",
              "            + ' to learn more about interactive tables.';\n",
              "          element.innerHTML = '';\n",
              "          dataTable['output_type'] = 'display_data';\n",
              "          await google.colab.output.renderOutput(dataTable, element);\n",
              "          const docLink = document.createElement('div');\n",
              "          docLink.innerHTML = docLinkHtml;\n",
              "          element.appendChild(docLink);\n",
              "        }\n",
              "      </script>\n",
              "    </div>\n",
              "  </div>\n"
            ]
          },
          "metadata": {},
          "execution_count": 7
        }
      ]
    },
    {
      "cell_type": "code",
      "source": [
        "df.info()"
      ],
      "metadata": {
        "colab": {
          "base_uri": "https://localhost:8080/"
        },
        "id": "qPjvOaZozpMJ",
        "outputId": "91c0d119-8b37-46e9-ce1b-ca1e5dd412a0"
      },
      "execution_count": null,
      "outputs": [
        {
          "output_type": "stream",
          "name": "stdout",
          "text": [
            "<class 'pandas.core.frame.DataFrame'>\n",
            "RangeIndex: 167 entries, 0 to 166\n",
            "Data columns (total 5 columns):\n",
            " #   Column  Non-Null Count  Dtype \n",
            "---  ------  --------------  ----- \n",
            " 0   Motor   167 non-null    object\n",
            " 1   Screw   167 non-null    object\n",
            " 2   Pgain   167 non-null    int64 \n",
            " 3   Vgain   167 non-null    int64 \n",
            " 4   Class   167 non-null    int64 \n",
            "dtypes: int64(3), object(2)\n",
            "memory usage: 6.6+ KB\n"
          ]
        }
      ]
    },
    {
      "cell_type": "markdown",
      "source": [
        "#**Data Visualization**"
      ],
      "metadata": {
        "id": "bmSsjOT-nDqy"
      }
    },
    {
      "cell_type": "markdown",
      "source": [
        "### Get Summarized Statistics"
      ],
      "metadata": {
        "id": "WoBHXizUlMtj"
      }
    },
    {
      "cell_type": "code",
      "source": [
        "df.describe()"
      ],
      "metadata": {
        "colab": {
          "base_uri": "https://localhost:8080/",
          "height": 840
        },
        "id": "LndW_Ixbl692",
        "outputId": "ab6b6561-3f58-4c99-eb1c-c76dc8e02109"
      },
      "execution_count": null,
      "outputs": [
        {
          "output_type": "execute_result",
          "data": {
            "text/plain": [
              "            Pgain       Vgain       Class\n",
              "count  167.000000  167.000000  167.000000\n",
              "mean     4.155689    2.538922   21.173653\n",
              "std      1.017770    1.369850   13.908038\n",
              "min      3.000000    1.000000    1.000000\n",
              "25%      3.000000    1.000000   10.500000\n",
              "50%      4.000000    2.000000   18.000000\n",
              "75%      5.000000    4.000000   33.500000\n",
              "max      6.000000    5.000000   51.000000"
            ],
            "text/html": [
              "\n",
              "\n",
              "  <div id=\"df-bf1ffe1a-a2b2-4a7d-b9d3-02ade69e983d\">\n",
              "    <div class=\"colab-df-container\">\n",
              "      <div>\n",
              "<style scoped>\n",
              "    .dataframe tbody tr th:only-of-type {\n",
              "        vertical-align: middle;\n",
              "    }\n",
              "\n",
              "    .dataframe tbody tr th {\n",
              "        vertical-align: top;\n",
              "    }\n",
              "\n",
              "    .dataframe thead th {\n",
              "        text-align: right;\n",
              "    }\n",
              "</style>\n",
              "<table border=\"1\" class=\"dataframe\">\n",
              "  <thead>\n",
              "    <tr style=\"text-align: right;\">\n",
              "      <th></th>\n",
              "      <th>Pgain</th>\n",
              "      <th>Vgain</th>\n",
              "      <th>Class</th>\n",
              "    </tr>\n",
              "  </thead>\n",
              "  <tbody>\n",
              "    <tr>\n",
              "      <th>count</th>\n",
              "      <td>167.000000</td>\n",
              "      <td>167.000000</td>\n",
              "      <td>167.000000</td>\n",
              "    </tr>\n",
              "    <tr>\n",
              "      <th>mean</th>\n",
              "      <td>4.155689</td>\n",
              "      <td>2.538922</td>\n",
              "      <td>21.173653</td>\n",
              "    </tr>\n",
              "    <tr>\n",
              "      <th>std</th>\n",
              "      <td>1.017770</td>\n",
              "      <td>1.369850</td>\n",
              "      <td>13.908038</td>\n",
              "    </tr>\n",
              "    <tr>\n",
              "      <th>min</th>\n",
              "      <td>3.000000</td>\n",
              "      <td>1.000000</td>\n",
              "      <td>1.000000</td>\n",
              "    </tr>\n",
              "    <tr>\n",
              "      <th>25%</th>\n",
              "      <td>3.000000</td>\n",
              "      <td>1.000000</td>\n",
              "      <td>10.500000</td>\n",
              "    </tr>\n",
              "    <tr>\n",
              "      <th>50%</th>\n",
              "      <td>4.000000</td>\n",
              "      <td>2.000000</td>\n",
              "      <td>18.000000</td>\n",
              "    </tr>\n",
              "    <tr>\n",
              "      <th>75%</th>\n",
              "      <td>5.000000</td>\n",
              "      <td>4.000000</td>\n",
              "      <td>33.500000</td>\n",
              "    </tr>\n",
              "    <tr>\n",
              "      <th>max</th>\n",
              "      <td>6.000000</td>\n",
              "      <td>5.000000</td>\n",
              "      <td>51.000000</td>\n",
              "    </tr>\n",
              "  </tbody>\n",
              "</table>\n",
              "</div>\n",
              "      <button class=\"colab-df-convert\" onclick=\"convertToInteractive('df-bf1ffe1a-a2b2-4a7d-b9d3-02ade69e983d')\"\n",
              "              title=\"Convert this dataframe to an interactive table.\"\n",
              "              style=\"display:none;\">\n",
              "\n",
              "  <svg xmlns=\"http://www.w3.org/2000/svg\" height=\"24px\"viewBox=\"0 0 24 24\"\n",
              "       width=\"24px\">\n",
              "    <path d=\"M0 0h24v24H0V0z\" fill=\"none\"/>\n",
              "    <path d=\"M18.56 5.44l.94 2.06.94-2.06 2.06-.94-2.06-.94-.94-2.06-.94 2.06-2.06.94zm-11 1L8.5 8.5l.94-2.06 2.06-.94-2.06-.94L8.5 2.5l-.94 2.06-2.06.94zm10 10l.94 2.06.94-2.06 2.06-.94-2.06-.94-.94-2.06-.94 2.06-2.06.94z\"/><path d=\"M17.41 7.96l-1.37-1.37c-.4-.4-.92-.59-1.43-.59-.52 0-1.04.2-1.43.59L10.3 9.45l-7.72 7.72c-.78.78-.78 2.05 0 2.83L4 21.41c.39.39.9.59 1.41.59.51 0 1.02-.2 1.41-.59l7.78-7.78 2.81-2.81c.8-.78.8-2.07 0-2.86zM5.41 20L4 18.59l7.72-7.72 1.47 1.35L5.41 20z\"/>\n",
              "  </svg>\n",
              "      </button>\n",
              "\n",
              "\n",
              "\n",
              "    <div id=\"df-1b479907-a062-41c5-809b-7d3b8852de42\">\n",
              "      <button class=\"colab-df-quickchart\" onclick=\"quickchart('df-1b479907-a062-41c5-809b-7d3b8852de42')\"\n",
              "              title=\"Suggest charts.\"\n",
              "              style=\"display:none;\">\n",
              "\n",
              "<svg xmlns=\"http://www.w3.org/2000/svg\" height=\"24px\"viewBox=\"0 0 24 24\"\n",
              "     width=\"24px\">\n",
              "    <g>\n",
              "        <path d=\"M19 3H5c-1.1 0-2 .9-2 2v14c0 1.1.9 2 2 2h14c1.1 0 2-.9 2-2V5c0-1.1-.9-2-2-2zM9 17H7v-7h2v7zm4 0h-2V7h2v10zm4 0h-2v-4h2v4z\"/>\n",
              "    </g>\n",
              "</svg>\n",
              "      </button>\n",
              "    </div>\n",
              "\n",
              "<style>\n",
              "  .colab-df-quickchart {\n",
              "    background-color: #E8F0FE;\n",
              "    border: none;\n",
              "    border-radius: 50%;\n",
              "    cursor: pointer;\n",
              "    display: none;\n",
              "    fill: #1967D2;\n",
              "    height: 32px;\n",
              "    padding: 0 0 0 0;\n",
              "    width: 32px;\n",
              "  }\n",
              "\n",
              "  .colab-df-quickchart:hover {\n",
              "    background-color: #E2EBFA;\n",
              "    box-shadow: 0px 1px 2px rgba(60, 64, 67, 0.3), 0px 1px 3px 1px rgba(60, 64, 67, 0.15);\n",
              "    fill: #174EA6;\n",
              "  }\n",
              "\n",
              "  [theme=dark] .colab-df-quickchart {\n",
              "    background-color: #3B4455;\n",
              "    fill: #D2E3FC;\n",
              "  }\n",
              "\n",
              "  [theme=dark] .colab-df-quickchart:hover {\n",
              "    background-color: #434B5C;\n",
              "    box-shadow: 0px 1px 3px 1px rgba(0, 0, 0, 0.15);\n",
              "    filter: drop-shadow(0px 1px 2px rgba(0, 0, 0, 0.3));\n",
              "    fill: #FFFFFF;\n",
              "  }\n",
              "</style>\n",
              "\n",
              "    <script>\n",
              "      async function quickchart(key) {\n",
              "        const containerElement = document.querySelector('#' + key);\n",
              "        const charts = await google.colab.kernel.invokeFunction(\n",
              "            'suggestCharts', [key], {});\n",
              "      }\n",
              "    </script>\n",
              "\n",
              "      <script>\n",
              "\n",
              "function displayQuickchartButton(domScope) {\n",
              "  let quickchartButtonEl =\n",
              "    domScope.querySelector('#df-1b479907-a062-41c5-809b-7d3b8852de42 button.colab-df-quickchart');\n",
              "  quickchartButtonEl.style.display =\n",
              "    google.colab.kernel.accessAllowed ? 'block' : 'none';\n",
              "}\n",
              "\n",
              "        displayQuickchartButton(document);\n",
              "      </script>\n",
              "      <style>\n",
              "    .colab-df-container {\n",
              "      display:flex;\n",
              "      flex-wrap:wrap;\n",
              "      gap: 12px;\n",
              "    }\n",
              "\n",
              "    .colab-df-convert {\n",
              "      background-color: #E8F0FE;\n",
              "      border: none;\n",
              "      border-radius: 50%;\n",
              "      cursor: pointer;\n",
              "      display: none;\n",
              "      fill: #1967D2;\n",
              "      height: 32px;\n",
              "      padding: 0 0 0 0;\n",
              "      width: 32px;\n",
              "    }\n",
              "\n",
              "    .colab-df-convert:hover {\n",
              "      background-color: #E2EBFA;\n",
              "      box-shadow: 0px 1px 2px rgba(60, 64, 67, 0.3), 0px 1px 3px 1px rgba(60, 64, 67, 0.15);\n",
              "      fill: #174EA6;\n",
              "    }\n",
              "\n",
              "    [theme=dark] .colab-df-convert {\n",
              "      background-color: #3B4455;\n",
              "      fill: #D2E3FC;\n",
              "    }\n",
              "\n",
              "    [theme=dark] .colab-df-convert:hover {\n",
              "      background-color: #434B5C;\n",
              "      box-shadow: 0px 1px 3px 1px rgba(0, 0, 0, 0.15);\n",
              "      filter: drop-shadow(0px 1px 2px rgba(0, 0, 0, 0.3));\n",
              "      fill: #FFFFFF;\n",
              "    }\n",
              "  </style>\n",
              "\n",
              "      <script>\n",
              "        const buttonEl =\n",
              "          document.querySelector('#df-bf1ffe1a-a2b2-4a7d-b9d3-02ade69e983d button.colab-df-convert');\n",
              "        buttonEl.style.display =\n",
              "          google.colab.kernel.accessAllowed ? 'block' : 'none';\n",
              "\n",
              "        async function convertToInteractive(key) {\n",
              "          const element = document.querySelector('#df-bf1ffe1a-a2b2-4a7d-b9d3-02ade69e983d');\n",
              "          const dataTable =\n",
              "            await google.colab.kernel.invokeFunction('convertToInteractive',\n",
              "                                                     [key], {});\n",
              "          if (!dataTable) return;\n",
              "\n",
              "          const docLinkHtml = 'Like what you see? Visit the ' +\n",
              "            '<a target=\"_blank\" href=https://colab.research.google.com/notebooks/data_table.ipynb>data table notebook</a>'\n",
              "            + ' to learn more about interactive tables.';\n",
              "          element.innerHTML = '';\n",
              "          dataTable['output_type'] = 'display_data';\n",
              "          await google.colab.output.renderOutput(dataTable, element);\n",
              "          const docLink = document.createElement('div');\n",
              "          docLink.innerHTML = docLinkHtml;\n",
              "          element.appendChild(docLink);\n",
              "        }\n",
              "      </script>\n",
              "    </div>\n",
              "  </div>\n"
            ]
          },
          "metadata": {},
          "execution_count": 9
        },
        {
          "output_type": "display_data",
          "data": {
            "text/plain": [
              "<google.colab._quickchart_helpers.SectionTitle at 0x7a38d4289e40>"
            ],
            "text/html": [
              "<h4 class=\"colab-quickchart-section-title\">Values</h4>\n",
              "<style>\n",
              "  .colab-quickchart-section-title {\n",
              "      clear: both;\n",
              "  }\n",
              "</style>"
            ]
          },
          "metadata": {}
        },
        {
          "output_type": "display_data",
          "data": {
            "text/plain": [
              "import numpy as np\n",
              "from google.colab import autoviz\n",
              "df_6041589616101290958 = autoviz.get_df('df_6041589616101290958')\n",
              "\n",
              "def value_plot(df, y, sort_ascending=False, figsize=(2, 1)):\n",
              "  from matplotlib import pyplot as plt\n",
              "  if sort_ascending:\n",
              "    df = df.sort_values(y).reset_index(drop=True)\n",
              "  _, ax = plt.subplots(figsize=figsize)\n",
              "  df[y].plot(kind='line')\n",
              "  plt.title(y)\n",
              "  ax.spines[['top', 'right',]].set_visible(False)\n",
              "  plt.tight_layout()\n",
              "  return autoviz.MplChart.from_current_mpl_state()\n",
              "\n",
              "chart = value_plot(df_6041589616101290958, *['Pgain'], **{})\n",
              "chart"
            ],
            "text/html": [
              "      <div class=\"colab-quickchart-chart-with-code\" id=\"chart-9b3e7175-0b8a-4590-96a7-1091dd5e327f\">\n",
              "        <img src=\"data:image/png;base64,iVBORw0KGgoAAAANSUhEUgAAAMQAAABgCAYAAABCK92TAAAAOXRFWHRTb2Z0d2FyZQBNYXRwbG90\n",
              "bGliIHZlcnNpb24zLjcuMSwgaHR0cHM6Ly9tYXRwbG90bGliLm9yZy/bCgiHAAAACXBIWXMAAA9h\n",
              "AAAPYQGoP6dpAAAPHUlEQVR4nO3de1AT99oH8O9uAuFoAE/jIaIgFxUQIRuNMIj6Qu3otPVynL6O\n",
              "dhzHF7Wj7ZlTnfpa728dHa9Hj22lM6eXV+3barX1VjvaY184ggXLqehbqlWxwEGIBbFyCTeJuTzv\n",
              "H8E08YJcAkng+cxksvvb27Oab3aX3ewKRERgjAEARHcXwJgn4UAw5oADwZgDDgRjDjgQjDngQDDm\n",
              "gAPBmAMOBGMOOBCMOeBA9HJKpRLZ2dnuLsNrcCDcLDU1Fb6+vlAqlQgICEBcXBz27t3rsvk3NjYi\n",
              "NTXVZfPr7TgQHmDlypVobGxEbW0tVq9ejVdeeYW/1d2EA+FBZDIZ5s2bB5VKhUuXLqGqqgozZ87E\n",
              "gAEDEBkZiYMHD0IQBHtYKisrMW3aNKjVavj7+0Oj0eDIkSNO8xQEAZmZmQCA7OxsCIKAo0ePIioq\n",
              "Cv7+/pg8eTJ++eWXnl5Vj8WB8CBmsxmffvopampqkJCQgLlz58JisaC0tBSXLl3CF1984TS+xWLB\n",
              "woULUVJSgpqaGixbtgxz587F1atX21zOiRMnkJ+fj1u3bqG5uRlr167tztXyLsTcKiUlhRQKBQUG\n",
              "BpJKpaIxY8bQxx9/THq9ngDQ1atX7eNeuXKFAFBWVtYT56fRaGjPnj32fgCUkZFBRERZWVkEgMrK\n",
              "yuzD33vvPYqJiXH9inkpuXvjyABgxYoV2Lx5s1Pb999/DwAICwuzt4WHhzuNU1tbi5UrVyIzMxPV\n",
              "1dUQRRGNjY24c+dOm8sbPHiwvbt///5oaGjo4hr0HrzL5KGGDBkCACgrK7O3OXYDwOrVq1FYWIhz\n",
              "587BYDCgrq4Oo0aNAvFvvjqNA+GhQkJCkJqaijVr1qCurg51dXVYv3690zgGgwH9+vWDSqWCyWRC\n",
              "enr6U48fWNs4EB7ss88+AxEhLCwMo0ePxowZMwAAfn5+AIDNmzfj3r17UKvVCA8PR1VVFcaPH+/O\n",
              "kr2eQLx99RoFBQUYPXo0KioqEBwc7O5yeiUOhAf76aefcP/+fWi1WlRUVGD+/PkAgLNnz7q5st6L\n",
              "d5k8mMFgwMsvvwx/f3/odDoMHDgQBw8edHdZvRpvIRhzwFsIxhxwIBhzwIFgzAEHgjEHXhGId999\n",
              "97HtJb829nAlrLfzikA8fA2PxUr408FLeO6v51Cgr3NPUaxX8opAPEwmCujna7tQd8vpa3wxG3MZ\n",
              "rwwEAKyYEg0/HxH5N2vxzdXb7i6H9RJeG4hBgX5YPDESALD974W4b7a6uSLWG3htIABgScowDFQq\n",
              "cLO6GQf+Wfb0CRh7Cq8ORH+FHP85JQoAsOdsEQzNJjdXxLydVwcCAGaPDUW02h91zSakny1ydznM\n",
              "y3l9IGSigLVTRwIA/ifvJsqqm9xcEfNmXh8IAEiJ+gMmjhgIk4XwlzM33F0O82K9IhAAsG7qSIgC\n",
              "cPpKJS6V1bi7HOalek0gYgYFYPbYUADA5tPX+WQd65QOBWLp0qUIDw+HIAgoKCiwtxcVFSE5ORlR\n",
              "UVFISEhwuvNDW8NcbfnkKPTzleGH8jqculzZbcthvVeHAjFr1izk5uY63TwLAJYsWYLFixfj559/\n",
              "xqpVq5CWltauYa4WFOCHJf82DACw40whjGZLty2L9VKdud1fWFgY/fDDD0REVFVVRf7+/mQymYiI\n",
              "yGq1klqtpqKiojaHdcQbb7zR7nGbjCZK3JJBYatO0Qfniju0HMa6fAyh1+sRHBwMudx2sZ0gCBg6\n",
              "dCjKy8vbHPYkRqMR9fX1Ti+Lpf3f9P185VgxJRoAkH62GDVN97uwdqyv8biD6m3btiEwMNDpdeHC\n",
              "hQ7N46UxIRgZHICGFjP2/INP1rH263IgQkNDUVlZCbPZDAAgIpSXl2Po0KFtDnuSNWvWwGAwOL0S\n",
              "ExM7VJNMFLC+9WTdgX+W4V/8QyLWTl0ORFBQEMaMGYMDBw4AAI4dO4aQkBAMHz68zWFPolAoEBAQ\n",
              "4PSSyWQdrmv88IGYFBMEs5Ww/e+FnVs51vd05IBj8eLFNGTIEJLJZBQUFETDhg0jIqLCwkJKSkqi\n",
              "ESNGkE6no8uXL9unaWtYe3XkoNpRUVU9Ra45TWGrTlFeyd1OzYP1LV5xo7Lly5dj9+7dnZp23Ykr\n",
              "OPh9OTQhgfjyT+MhioKLq2O9iccdVLvaG5OjoFTIcfmWAV/9WOHucpiH6/WBGKhU4LVU28m6v5wp\n",
              "RIuJT9axJ+v1gQCARRMiMDjQDxWGFuzNLXV3OcyD9YlA+PnI8ObztpN1f8suwd1Go5srYp6qTwQC\n",
              "AP4oDUH8kEA0Gs14J/Nnd5fDPFSfCYQoCljXerLu0AU9iu/wkzfZo/pMIAAgKVKFybFqWKyErV/z\n",
              "yTr2qD4VCABY80IM5KKAs4V3cL74rrvLYR6mzwUi8g9KzEuy/Z5jy+nrsFg9/rwk60F9LhAAsPS5\n",
              "EfD3k+NaZT2O/98td5fDPEifDMQz/X3x52dtFxju+t8baL5vdnNFzFP0yUAAwH8khyPk979DVb0R\n",
              "/53DJ+uYTY8FoidvNtAefj4yrHw+BgDw/rkS3KlvcWs9zDPIe2pBD242kJaWhqNHjyItLQ35+fk9\n",
              "tfjHmq4Jxr7cUhTo67DjzA2sfD4afnIZFD4iFHIRgtC3rowlIljJ9kAaK5H93WoFLI79D7rb0U6t\n",
              "7xaH+djmSQ7LgdP0T2u312ifb2sbEZ6LCcLY8Gc6/W/QI5d/37lzB8OHD0dNTQ3kcjmICMHBwcjN\n",
              "zW3zx0IPdOXy76e5VFaDf/9b3iPtggAo5CL8fGT2dz+5DH4+IhQ+stb+h4b72N5FQYDJYoXZSrhv\n",
              "ttq6LQSTxQqTlWBqbXtct9lqhclim85stcJVfwQjsn3gf/ugwuGDanv3/B8CPN1/TYvFogkRnZ6+\n",
              "R7YQbd1s4OFAGI1GGI3O1xp15CYDHaULewYLxofj83w9WkwW+weQCGgxWdFi4udOOBIFQBQEiKIA\n",
              "mSBAJgoQBdvPdm3dtpdMFCCKgOyRcR9t/+0d9mkftD+Y99PaHyx31OCALq1fj+0ytde2bduwceNG\n",
              "p7akpKRuXeaG6aOwYfooEBFMFoLRbGkNg+Whbtv7g/6Wh4YZTRa0mCywEMFHJsJXJkIuE+AjE1tf\n",
              "tm65TISvTIBcFOEjF+Ejto7zoFsuQt7aJrpwt83xgygKv30InT9ozu1OH3ABvX430uN2mR63hZg/\n",
              "fz4iIyOd2iwWCy5cuIDExMRO/ea6u3BdHdNTdYWFhWHZsmVPH7GnfquakpJC+/fvJyKiI0eOkE6n\n",
              "69L8DAYDASCDweCC6lyH6+oYT6urx3aZPvjgA6SlpWHr1q0ICAjA/v37e2rRjLVbjwUiOjoaeXmP\n",
              "/jWHMU/SZ89UM/Y4XhsIhUKBDRs2QKFQuLsUJ1xXx3haXV5xXybGeorXbiEY6w4cCMYccCAYc9Cn\n",
              "AvHOO+/g9u3b3TLvmzdv4v33329znLFjxyI7O9tly2xpacHMmTMRFRUFSZIwefJkFBcXAwBSU1MR\n",
              "EREBrVYLrVaLt99+2z7dkiVLEB8fj0mTJsFgMACwXfj3wgsvoKSkpMt1VVdX25er1WoRFRUFuVyO\n",
              "mpoat9bVLu49L9izHB8F5mpZWVkkSVKb4+h0OsrKynLZMu/du0enT58mq9VKRETp6emUkpJCRLYr\n",
              "A06cOPHINFeuXKFnn32WiIg2btxI6enpRET04Ycf0o4dO1xWm6OdO3fStGnTPK6ux/GILUReXh4m\n",
              "TJgASZKg0Whw8uRJXLx4EcnJydBoNEhMTMT58+cB2L6JBwwYYJ+2sbHR6YIzQRCwdetWJCYmIiIi\n",
              "wn5GfNOmTaioqMCcOXOg1WqdnqLaUffu3cOcOXMQGxsLSZIwZcoUvPrqq7hx4wa0Wi1mzJgBAPju\n",
              "u++g1WoRFxeHBQsW2B8c4yp+fn548cUX7euflJSEmzdvtjmNj48PjEYjrFYrmpqa4Ovri8rKShw6\n",
              "dAjLly93aX0P7N27F4sWLfK4uh6rx6L3BNXV1RQUFETffvstERFZLBaqqqqi0NBQOnPmDBER5eTk\n",
              "kFqtpoaGBiotLaXAwED79A0NDeS4GgBo165dRER0/fp1UiqV9oc+umoLcfz4cZoyZYrTOjy8hTAa\n",
              "jRQSEkIZGRlERPTNN98QAJduIR42b948Wrp0KRHZvomjo6MpLi6OZs+eTSUlJfbx1q1bR5Ik0axZ\n",
              "s6ipqYnmzJlDFy9e7Jaazp8/T2q12v5/4Cl1PYnbA3Hq1CmaOHGiU9vly5cpLCzMqU2j0VBOTk67\n",
              "AlFZWWnvHzBgAOn1eiJyXSBKSkooNDSUXnvtNTp8+DDV19c/Eogff/yRwsPDnaaLjIzstkBs2bKF\n",
              "kpKSqKmpiYiIysvLicj25Nf09HQaOXLkY6f78ssvacWKFXT37l1KS0ujl156iQ4fPuyyuhYuXEhv\n",
              "vvmmvd9T6noSrwmEJEmUk5NDer2elEqlvf3XX399JBC1tbX2fpVKRaWlpUTk2mOIhoYGOnnyJL3+\n",
              "+us0dOhQOn78+FMDMWzYsG4JxM6dO0mn0zmt98MUCgXdvev8FCWDwUATJkygpqYmWr9+Pe3fv59M\n",
              "JhPFxsZSc3Nzl+tqaGggpVJJ169f96i62uL2Y4jk5GQUFRUhJycHAGC1WqFWq2G1WpGRkQHAti9+\n",
              "+/ZtaLVaDBo0CESEa9euAQA++eSTdi8rICDA/teLrrh16xYEQcCMGTOwa9cuEBFUKpXTvGNiYmA2\n",
              "m5GVlQUAyMzM7Ja/lOzevRuHDh1CRkaG/djKbDajqqrKPs6xY8egVquhUqmcpl29ejXeeust9OvX\n",
              "D01NTRAEAYIgwGQy4f79rj/O+PPPP4ckSYiJifGoutrUrXFrp7y8PEpOTqb4+HiSJIm++uorys/P\n",
              "p3HjxlF8fDwlJCRQTk6Offx9+/ZRREQEjR07lrZv397uLcRHH31EI0aMIEmSurSl+Prrr0mSJNJo\n",
              "NBQbG0tr164lk8lEU6dOpVGjRtH06dOJyLb/LEkSxcXF0YIFC0iSJJduIfR6PQGgyMhIkiSJJEmi\n",
              "xMREamxsJJ1OR3FxcaTRaGjSpElUUFDgNG1ubi6lpaXZ+4uLiykhIYFGjhxJmzZtckl948aNo337\n",
              "9tn7PaWutvC1TIw5cPsuE2OehAPBmAMOBGMOOBCMOeBAMOaAA8GYAw4EYw44EIw54EAw5oADwZgD\n",
              "DgRjDv4f/OpEV1qk39oAAAAASUVORK5CYII=\n",
              "\">\n",
              "        \n",
              "      </div>\n",
              "      <script></script>\n",
              "      <script type=\"text/javascript\">\n",
              "        (() => {\n",
              "          const chartElement = document.getElementById(\"chart-9b3e7175-0b8a-4590-96a7-1091dd5e327f\");\n",
              "          async function getCodeForChartHandler(event) {\n",
              "            const chartCodeResponse =  await google.colab.kernel.invokeFunction(\n",
              "                'getCodeForChart', [\"chart-9b3e7175-0b8a-4590-96a7-1091dd5e327f\"], {});\n",
              "            const responseJson = chartCodeResponse.data['application/json'];\n",
              "            await google.colab.notebook.addCell(responseJson.code, 'code');\n",
              "          }\n",
              "          chartElement.onclick = getCodeForChartHandler;\n",
              "        })();\n",
              "      </script>\n",
              "      <style>\n",
              "        .colab-quickchart-chart-with-code  {\n",
              "            display: block;\n",
              "            float: left;\n",
              "            border: 1px solid transparent;\n",
              "        }\n",
              "\n",
              "        .colab-quickchart-chart-with-code:hover {\n",
              "            cursor: pointer;\n",
              "            border: 1px solid #aaa;\n",
              "        }\n",
              "      </style>"
            ]
          },
          "metadata": {}
        },
        {
          "output_type": "display_data",
          "data": {
            "text/plain": [
              "import numpy as np\n",
              "from google.colab import autoviz\n",
              "df_6041589616101290958 = autoviz.get_df('df_6041589616101290958')\n",
              "\n",
              "def value_plot(df, y, sort_ascending=False, figsize=(2, 1)):\n",
              "  from matplotlib import pyplot as plt\n",
              "  if sort_ascending:\n",
              "    df = df.sort_values(y).reset_index(drop=True)\n",
              "  _, ax = plt.subplots(figsize=figsize)\n",
              "  df[y].plot(kind='line')\n",
              "  plt.title(y)\n",
              "  ax.spines[['top', 'right',]].set_visible(False)\n",
              "  plt.tight_layout()\n",
              "  return autoviz.MplChart.from_current_mpl_state()\n",
              "\n",
              "chart = value_plot(df_6041589616101290958, *['Vgain'], **{})\n",
              "chart"
            ],
            "text/html": [
              "      <div class=\"colab-quickchart-chart-with-code\" id=\"chart-56f50937-da6c-4894-97b6-25a50d5c841b\">\n",
              "        <img src=\"data:image/png;base64,iVBORw0KGgoAAAANSUhEUgAAAMQAAABgCAYAAABCK92TAAAAOXRFWHRTb2Z0d2FyZQBNYXRwbG90\n",
              "bGliIHZlcnNpb24zLjcuMSwgaHR0cHM6Ly9tYXRwbG90bGliLm9yZy/bCgiHAAAACXBIWXMAAA9h\n",
              "AAAPYQGoP6dpAAAPiklEQVR4nO3dfVAT574H8O8mQFAhoCiIAuFFXgU2U4QBjl5bT/UerXWso+VM\n",
              "29tGO1eFGfWWo6O1nXZ0ptoePVSPtzO0WqnVOeoo1heoL9hDKVrOQXuLUqGKyJsVUV4MMUAI2d/9\n",
              "I7gmipSXkBd4PjMZss/uZn877HefbHaz4YiIwDAMAEBi6wIYxp6wQDCMCRYIhjHBAsEwJlggGMYE\n",
              "CwTDmGCBYBgTLBAMY4IFgmFMsEAMc1OnTsW+fftsXYbD4NilG7bxyiuvgIhw/Pjxp8Zt2LABJ0+e\n",
              "RFlZmfULG+FYD2EjqampyMnJwe3bt83aOzs7sXfvXqSmptqospGNBcJGZs+ejeDgYOzevdus/ejR\n",
              "o2hra8Nbb70FjUYDlUoFLy8v+Pn5YefOnfDz88NXX30FAOjo6MCSJUswefJkuLu7Izw8HJ999pnZ\n",
              "6wUGBmLPnj0AgOrqanAch3379oHnebi7uyMxMZH1RCZYIGyE4zisXLkSe/bsQVdXl9iemZmJ119/\n",
              "HXK5HGvWrEFZWRlKS0tx48YNlJaWoqGhQZyWiDBv3jxcu3YNarUaGRkZSE9Px9mzZ3td9v79+3Hm\n",
              "zBncv38ffn5+rDcyRYzNNDc306hRoyg7O5uIiH755RcCQCUlJdTV1UUuLi6Um5srTq9Wq0kikVBW\n",
              "VtYzX3PBggWUnp4uDisUCtq9ezcREVVVVREAKigoEMfn5OTQqFGjLLxmjov1EDY0duxYpKSkIDMz\n",
              "E4Cxd0hKSgLP82hsbERnZycUCoU4vVwux9ixY8VhnU6HtWvXIiwsDB4eHvD09MTp06dx7969Xpc7\n",
              "adIk8fmYMWPQ3t5u1kuNZCwQNpaWlobz58/jypUr2L9/P9LS0gAA48ePh4uLC2pqasRpW1tb0dLS\n",
              "Ig5nZGTg1KlTOHXqFFpaWvDgwQPMnTsXxD44HDAWCBuLj49HXFwcFi1aBBcXFyxZsgQAIJVK8dpr\n",
              "r2Hz5s2or69HW1sb1q1bB4nk8b9MrVZDJpNhwoQJEAQBR44cwblz52y1KsMCC4QdSEtLw61bt7Bs\n",
              "2TLIZDKxfefOnQgLC8PUqVMRGhqKqKgojBs3Dq6urgCAtWvXwt/fHwqFApMmTcJ3332HhQsX2mgt\n",
              "hgd2Ys6BtLS0wMvLCxcvXkRSUpKtyxmWWA9hx2pra1FQUACDwYCmpiakpaUhNDQU8fHxti5t2GKB\n",
              "sGOdnZ1YtWoVPD09ERoaigcPHuDkyZNwcnKydWnDFnvLxDAmWA/BMCZYIBjGBAsEw5hggWAYEw4R\n",
              "iJ07d/bYXnn/oZUrYYY7hwiE6fU8AGAQCKkHfsIf/1aAkroHtimKGZYcIhBPkko4jJEZP4vfklvO\n",
              "LmZjLMYhAwEAf5kTBldnCYqrm5FX1vD7MzBMHzhsIHw9RuHt6UEAgI9P/wq9QbBxRcxw4LCBAICV\n",
              "M0PgNcYFtxq1OFRca+tymGHAoQPh7uqM/3kxFACw43wFNB16G1fEODqHDgQA/DkhAMHjx6BJ24nM\n",
              "gkpbl8M4OIcPhLNUgvVzIwAAewqrUK9ut3FFjCNz+EAAwJwoHyQEjoOuS8Dfzt2wdTmMAxsWgeA4\n",
              "DhtfigQAZP/fbZTdabVxRYyjGhaBAAClvyfmx/qCCNh6utzW5TAOql+BWL16NQIDA8FxHEpKSsT2\n",
              "iooKJCcnIywsDPHx8bh27Vqfxlna+j9FwEUqQWFFIwpu3B+y5TDDV78CsXjxYly4cMHs5lkAsGLF\n",
              "Cixfvhw3btzA+vXroVKp+jTO0vzHjcabScbatuSWwyCwSzqYfhrI7f4UCgX9/PPPRETU0NBA7u7u\n",
              "pNfriYhIEATy8fGhioqKXsf1xzvvvNPnaVu0Oor58Awp1ufQ4eLafi2HYQZ9DFFXVwdfX1/xi+8c\n",
              "xyEgIAC1tbW9jnsWnU6H1tZWs4fBYOhzPZ6jXbD6j8aTddvPXUdbJ7tFI9N3dndQvXXrVnh4eJg9\n",
              "iouL+/Ua/5WkgP+4Ubin0WFPYdUQVcoMR4MOhL+/P+rr68Wb5RIRamtrERAQ0Ou4Z3n33XehVqvN\n",
              "HgkJCf2qSeYkxbr/NJ6syyyoxD1NxwDXjhlpBh0Ib29vPPfcczhw4AAAIDs7G35+fpgyZUqv455F\n",
              "JpNBLpebPaRSab/rejnWF7y/J9o6DdhxvmJgK8eMPP054Fi+fDlNnjyZpFIpeXt7U0hICBER/frr\n",
              "r5SYmEihoaEUFxdHV69eFefpbVxf9eeg2tS/bzWRYn0OBb+bSxUNrQN6DWZkcYgblaWnpyMjI2NA\n",
              "8/7315eRV9aAFyO9sectdgtIpnd2d1BtaRvmRkAq4XC+/B6KKptsXQ5j54Z9IEImuOG1BONB/JZv\n",
              "yyGwk3VML4Z9IABgzYuhcJM5ofQ3NU5dvWPrchg7NiICMd5NhtTnQwAAfz1zHR36vp/oY0aWEREI\n",
              "AFj2hyBMlLvitwft2Pdjta3LYezUiAnEKBcp/jInDADwv/k30aLttHFFjD0aMYEAgEXP+SHSVw5N\n",
              "Rxf+/k92so552ogKhFTCYeM84yUdB/5Vg5omrY0rYuzNiAoEAMwInYD/CJsAvYHw1zPXbV0OY2dG\n",
              "XCAAYOO8CEg4ILe0Hj/VtPz+DMyIMSIDETFRjsVxfgCMJ+sc4OoVxkpGZCAAIH12OFydJfippgVn\n",
              "r921dTmMnbBaIKx5s4G+mOjhiuUzggEYb5bc2cVulswAVvvB40c3G1CpVDh69ChUKhUuXbpkrcX3\n",
              "aPnMEPyjuBbVTW34x79roPpDkE3rGe4EgaAXBOgNhC6DgE6DgC4DwSAQBDL9C/F5T+1EBMMT7QIR\n",
              "BIEQ6StH4PgxA67RKpd/37t3D1OmTEFzczOcnJxARPD19cWFCxd6/bLQI4O5/Pv3HPhXDd4//gtG\n",
              "u0gRMsENUglnfHCc+Fwi4SDlAKlEAqkE3e0SSDl0j+PgJOUg6Z5HwnHgOIDDo78w/uU4cADQ0ziT\n",
              "YXAcJCZtlkCEJzYwiM/NNz7jhmvo3sAEIhiou82kXS8YN2q9QUCn4fFzvYG6/z793Bp3QflgfhSW\n",
              "TR/4js0qPURvNxt4MhA6nQ46nc6srT83GeivP8f7Y39RDa43aFD6m3rIlsP0zFn6eAck4bp3PpJH\n",
              "OxcY20x3ThzE8eIOqHuHJeE4eMtlg6rHam+Z+mrr1q3YtGmTWVtiYuKQLc9JKsHhFYm4elsNg0Do\n",
              "Mtljdgn0eM8oPO6mDU9MY+ierstkT0sEEND91zhgHDbunR+1P+qfichs+kfzW5KEg3HDk5j3ZlLJ\n",
              "s9uf3vCMG6WzVAJnJwmcJRycpRI4STm4dLc5dbcZH088d5LAWSIRg8BZqgu0ELt7y9RTD/Hmm28i\n",
              "ODjYrM1gMKC4uBgJCQkD+s71UGF19Y+16lIoFFizZs3vT2it76rOnDmTsrKyiIjoyJEjFBcXN6jX\n",
              "U6vVBIDUarUFqrMcVlf/2FtdVnvL9Pnnn0OlUmHLli2Qy+XIysqy1qIZps+sFojw8HAUFRVZa3EM\n",
              "MyAj9kw1w/TEYQMhk8nw4YcfQiYb3Mdslsbq6h97q8sh7svEMNbisD0EwwwFFgiGMcECwTAmRlQg\n",
              "duzYgbt3h+a7D9XV1cjMzOx1mmnTpuH777+32DI7OjqwcOFChIWFged5zJ49Gzdv3gQAPP/88wgK\n",
              "CoJSqYRSqcSnn34qzrdixQrExMRg1qxZUKuN128REebOnYvKyspB19XU1CQuV6lUIiwsDE5OTmhu\n",
              "brZpXX1i2/OC1mX6U2CWlp+fTzzP9zpNXFwc5efnW2yZ7e3tlJubS4IgEBHRrl27aObMmURkvDLg\n",
              "m2++eWqe0tJSeuGFF4iIaNOmTbRr1y4iIvriiy/ok08+sVhtprZt20bz58+3u7p6Yhc9RFFREaZP\n",
              "nw6e5xEbG4sTJ07g8uXLSE5ORmxsLBISEnDx4kUAxj2xp6enOO/Dhw/NLhDjOA5btmxBQkICgoKC\n",
              "xDPimzdvxp07d5CSkgKlUmn2K6r91d7ejpSUFERFRYHnecyZMwcrV67E9evXoVQqsWDBAgDAjz/+\n",
              "CKVSiejoaCxdulT84RhLcXV1xbx588T1T0xMRHV1da/zODs7Q6fTQRAEaLVauLi4oL6+HgcPHkR6\n",
              "erpF63vkyy+/xNtvv213dfXIatF7hqamJvL29qYffviBiIgMBgM1NDSQv78/nTlzhoiICgsLycfH\n",
              "hzQaDVVVVZGHh4c4v0ajIdPVAEDbt28nIqLy8nJyc3MTf/TRUj3EsWPHaM6cOWbr8GQPodPpyM/P\n",
              "j/Ly8oiI6OzZswTAoj3Ek9544w1avXo1ERn3xOHh4RQdHU2vvvoqVVZWitO99957xPM8LV68mLRa\n",
              "LaWkpNDly5eHpKaLFy+Sj4+P+D+wl7qexeaByMnJoRkzZpi1Xb16lRQKhVlbbGwsFRYW9ikQ9fX1\n",
              "4rCnpyfV1dURkeUCUVlZSf7+/pSamkqHDh2i1tbWpwJx5coVCgwMNJsvODh4yALx0UcfUWJiImm1\n",
              "WiIiqq01/gKrIAi0a9cuioyM7HG+48eP09q1a6mxsZFUKhUtWrSIDh06ZLG6li1bRuvWrROH7aWu\n",
              "Z3GYQPA8T4WFhVRXV0dubm5i+/37958KREtLizjs5eVFVVVVRGTZYwiNRkMnTpygVatWUUBAAB07\n",
              "dux3AxESEjIkgdi2bRvFxcWZrfeTZDIZNTY2mrWp1WqaPn06abVaev/99ykrK4v0ej1FRUVRW1vb\n",
              "oOvSaDTk5uZG5eXldlVXb2x+DJGcnIyKigoUFhYCAARBgI+PDwRBQF5eHgDje/G7d+9CqVRi4sSJ\n",
              "ICKUlZUBAL7++us+L0sul4ufXgzG7du3wXEcFixYgO3bt4OI4OXlZfbaERER6OrqQn5+PgDg/Pnz\n",
              "Q/JJSUZGBg4ePIi8vDzx2KqrqwsNDQ3iNNnZ2fDx8YGXl5fZvBs2bMAHH3yA0aNHQ6vVGr/iynHQ\n",
              "6/Xo7Bz8vW8PHz4MnucRERFhV3X1akjj1kdFRUWUnJxMMTExxPM8nTx5ki5dukRJSUkUExND8fHx\n",
              "VFhYKE6/d+9eCgoKomnTptHHH3/c5x5i9+7dFBoaSjzPD6qn+Pbbb4nneYqNjaWoqCjauHEj6fV6\n",
              "eumll2jq1Kn08ssvE5Hx/TPP8xQdHU1Lly4lnuct2kPU1dURAAoODiae54nneUpISKCHDx9SXFwc\n",
              "RUdHU2xsLM2aNYtKSkrM5r1w4QKpVCpx+ObNmxQfH0+RkZG0efNmi9SXlJREe/fuFYftpa7esGuZ\n",
              "GMaEzd8yMYw9YYFgGBMsEAxjggWCYUywQDCMCRYIhjHBAsEwJlggGMYECwTDmGCBYBgTLBAMY+L/\n",
              "AWUgUdjtFwPUAAAAAElFTkSuQmCC\n",
              "\">\n",
              "        \n",
              "      </div>\n",
              "      <script></script>\n",
              "      <script type=\"text/javascript\">\n",
              "        (() => {\n",
              "          const chartElement = document.getElementById(\"chart-56f50937-da6c-4894-97b6-25a50d5c841b\");\n",
              "          async function getCodeForChartHandler(event) {\n",
              "            const chartCodeResponse =  await google.colab.kernel.invokeFunction(\n",
              "                'getCodeForChart', [\"chart-56f50937-da6c-4894-97b6-25a50d5c841b\"], {});\n",
              "            const responseJson = chartCodeResponse.data['application/json'];\n",
              "            await google.colab.notebook.addCell(responseJson.code, 'code');\n",
              "          }\n",
              "          chartElement.onclick = getCodeForChartHandler;\n",
              "        })();\n",
              "      </script>\n",
              "      <style>\n",
              "        .colab-quickchart-chart-with-code  {\n",
              "            display: block;\n",
              "            float: left;\n",
              "            border: 1px solid transparent;\n",
              "        }\n",
              "\n",
              "        .colab-quickchart-chart-with-code:hover {\n",
              "            cursor: pointer;\n",
              "            border: 1px solid #aaa;\n",
              "        }\n",
              "      </style>"
            ]
          },
          "metadata": {}
        },
        {
          "output_type": "display_data",
          "data": {
            "text/plain": [
              "import numpy as np\n",
              "from google.colab import autoviz\n",
              "df_6041589616101290958 = autoviz.get_df('df_6041589616101290958')\n",
              "\n",
              "def value_plot(df, y, sort_ascending=False, figsize=(2, 1)):\n",
              "  from matplotlib import pyplot as plt\n",
              "  if sort_ascending:\n",
              "    df = df.sort_values(y).reset_index(drop=True)\n",
              "  _, ax = plt.subplots(figsize=figsize)\n",
              "  df[y].plot(kind='line')\n",
              "  plt.title(y)\n",
              "  ax.spines[['top', 'right',]].set_visible(False)\n",
              "  plt.tight_layout()\n",
              "  return autoviz.MplChart.from_current_mpl_state()\n",
              "\n",
              "chart = value_plot(df_6041589616101290958, *['Class'], **{})\n",
              "chart"
            ],
            "text/html": [
              "      <div class=\"colab-quickchart-chart-with-code\" id=\"chart-a848d4f9-a079-4810-8010-500f150c23bb\">\n",
              "        <img src=\"data:image/png;base64,iVBORw0KGgoAAAANSUhEUgAAAMQAAABgCAYAAABCK92TAAAAOXRFWHRTb2Z0d2FyZQBNYXRwbG90\n",
              "bGliIHZlcnNpb24zLjcuMSwgaHR0cHM6Ly9tYXRwbG90bGliLm9yZy/bCgiHAAAACXBIWXMAAA9h\n",
              "AAAPYQGoP6dpAAARXElEQVR4nO3de1BTd5sH8G8gJDHkAkQTkEtAJco1WVAGeW1t9dVtbXXbjqu1\n",
              "Yy22M9rLW9u67VgvW6vvqm11bbvO7FS7CnU7q61VK6PdunSrLSq76ipqESWiXBQIhtjcgASSZ/8I\n",
              "pkkFyiWQBH6fmTMh55LznOF8c37nGg4RERiGAQCE+LsAhgkkLBAM44EFgmE8sEAwjAcWCIbxwALB\n",
              "MB5YIBjGAwsEw3hggWAYDywQQaKwsBBxcXH+LmPYY4EIIFeuXMGzzz6LmJgYiEQiJCYmYtGiRbhw\n",
              "4YK/SxsxWCACxMmTJ5GTkwOFQoHS0lKYzWaUlZVh1qxZOHDggL/LGzmICQgqlYoWL17c7fCCggKK\n",
              "jY11v//6668pKyuLIiIiSCaT0dy5c+nmzZvu4WVlZfTwww+TVCqliIgIysrKomvXrhER0Y8//kjZ\n",
              "2dkkkUgoKiqK8vLyyGAwDN7CBRG2hQgAWq0WlZWVWLJkSa+nEYvF2LNnD/R6Pa5duwYiwnPPPece\n",
              "/uqrr2LmzJnQ6/W4e/cudu/ejYiICADA4sWL8dprr+HXX39FQ0MDtm3bBh6P5+vFCkpcfxfAAE1N\n",
              "TQDQp53mxx57zP336NGjsXHjRmRlZcFsNkMsFoPH46G2thY1NTUYP348NBqNe3wej4eqqirU19cj\n",
              "NjYWU6dO9dmyBDu2hQgAcrkcAHD79u1eT/PTTz9h5syZiImJgUQiwfTp0wH8Fq7CwkJwOBzMmDED\n",
              "cXFxePPNN2GxWAAARUVFuHnzJrKzszFhwgSsX78eHR0dPl6qIOXvNhvjolKp6Pnnn+92uOc+hM1m\n",
              "I5FIRB999BGZTCYiIrpw4QIBIK1W+8C0Wq2WUlNTac2aNQ8Mu3jxIsnlctq1a5ePliS4sS1EgNi5\n",
              "cycOHDiAlStXoqamBkQEk8mEvXv3Yu3atV7j2u12tLa2IjIyEmKxGPX19Vi3bp3XOIWFhbh9+zaI\n",
              "CBKJBFwuF1wuF3a7HQUFBbh79y4AQCqVIjQ0FFwuaz0DYFuIQHLp0iVasGAByeVyCg8PJ6VSSYsW\n",
              "LaILFy48cJSpoKCAlEolhYeHU2ZmJhUUFHhtIZYsWUIxMTEkFAopOjqali9fTlarlWw2G82ZM4fG\n",
              "jBlDQqGQ4uPjafXq1eRwOPy12AGFQ8TuqWaY+1iTiWE8sEAwjAcWCIbxwALBMB5YIBjGAwsEw3hg\n",
              "gWAYD0ERiE8//bTL/jeazENcCTPcBUUgampqvN53OJz4y39cwKyPf8bF2nt+qooZjoIiEL/HDQ0B\n",
              "jxsCImDN4V/Q4XD6uyRmmAjKQADA2jkpiBCGoaLBhILT1f4uhxkmgjYQMhEfax5PAQBsL67E7Xst\n",
              "fq6IGQ6CNhAA8PeT45CTGIXWdgfeLyoHu06RGaigDgSHw8Gmp9MRFsrBDxVNOF6u83dJTJAL6kAA\n",
              "QLJCjOUPjwcAvF9UDouN3QrJ9F/QBwIA/jJjApQyIRpNbfjn/7ru73KYIDYsAiEIC8Vf/y4dAPDF\n",
              "mWpcuW30c0VMsBoWgQCAh1VjME89Fk4C1hy+AoeT7WAzfTdsAgEA655MgUTAxZU7RuwtrfZ3OUwQ\n",
              "6lMgVqxYgcTERHA4HJSVlbn7a7Va5OXlQaVSYcqUKSgvL+/VMF+TiwVY9fgkAMC249fRYGwdtHkx\n",
              "w1OfAjF//nycOnUKSqXSq//y5cuxbNkyVFZWYtWqVcjPz+/VsMGwaEoCshIiYLU7sKHo6qDOixmG\n",
              "+vOoDqVSSRcvXiQiIp1OR2KxmNrb24mIyOl0kkKhIK1W2+Owvnjrrbf6NH5Fg5HGrz5GylVHqbi8\n",
              "sU/TMiPbgPch6urqEBMT437QFYfDQUJCAmpra3sc1h2bzQaTyeTVORyOPtU0KVqClx5KAgCsLypH\n",
              "i52dm2B6J+B2qrds2QKpVOrVnT17ts+f88bMZMRFjsKdX1vxyQ/aQaiUGY4GHIj4+Hg0NDS4H5ZL\n",
              "RKitrUVCQkKPw7qzevVqGI1Gry4nJ6fPdQl5XPe5id2nbuFqvakfS8eMNAMOhFwuR1ZWFr788ksA\n",
              "wMGDBxEXF4cJEyb0OKw7fD4fEonEqwsNDe1XbY9OkmNORjQcTmLnJpje6csOx7Jlyyg2NpZCQ0NJ\n",
              "LpfT+PHjiYjo2rVrlJubS8nJyZSdnU2XL192T9PTsN7q6061p0ZjK6W99z0pVx2lvWdu9ftzmJEh\n",
              "KJ7tunLlSmzfvr3f039xphrri8oh5nPx3/8wHXKJwIfVMcNJwO1UD4bFuUqo46Qw2zqw8Sg7N8F0\n",
              "b0QEIjSEg01PZyCEAxy93ICT15v8XRIToEZEIAAgPVaKpX9ynZv4xyO/oNXet3MbzMgwYgIBACtn\n",
              "qTBWKkCdoRX/8iM7NzHcENGAjySOqECE87l4f14aAODzn2/ieiN70FmwcjoJVXctKLpUjy3/WYHF\n",
              "//a/yPprMY6XNw7oc0fcD4vNTovGrFQFiq/qsObwFRxYPhUhIRx/l8X0wN7hhLbJjPJ6E8rvGFFe\n",
              "b0JFgwnWLpq9v9wxYk5GTL/nNeICAQAb5qXh9A09/q/mHr46X4dFOd2fOWeGVou9AxUNZpTXG1F+\n",
              "x4TyBiMqGy2wd/EwOkFYCCZFS5A2VoL0WCnSxkqgUogHNP8RGYixEaOwcpYK/3SsAlu+q8CfUxQY\n",
              "I+b7u6wRR2+x4Xpj58pfb8Ivd4y4pbeiq90AsYDrWvHHSpEWK0HaWCnGjQ4HN9S3rf4RGQgAyM9L\n",
              "xOGLd1Beb8KmY1fxybN/4++Shi1jazu0OjOu68yobDSjUmdBpc6MZqu9y/HHiPlIH+ta6e9/+8dF\n",
              "jgKHM/hN2xEbCG5oCDY/nYGn/vU0vi2rx/zseExLHu3vsoJai70DWp3ltxW/yYLKRjMaTW1djs/h\n",
              "AAlRQqTGuJo9aZ3NHrnYf1cSjNhAAIA6PgJLcpX4orQG73xzCX9OUSAynAdZOO+3VyEPMpHrlccd\n",
              "UQflutXW7sDNu1ZU6szu7rrOjDpD97fsjpUKoIoWQ6VwdRMVYkyQizCK178LNwfLiA4EALz9txNx\n",
              "vFyHBmMb/v1/anocV8znIjKch6iuOqHrNTKch2ipADESQdAcvbJ3OGGw2tFstaHZYu/82w6D1QaD\n",
              "1Q59Zz+D1Y5miw2mtu5vuBot4kOlELlW+mgxVAoRkhViSARhQ7hE/TdkgdBqtXjhhReg1+shlUpR\n",
              "WFiItLS0oZp9t8SCMBS9/iccu9yAe50rwr0WO5otrleD1Y57Le1wOAlmWwfMtg7UGv74wco8bggS\n",
              "ooRIlAmRKAuHcnQ4kmThUMqEGBsxCqGDHBZbhwNNJht0pjY0mtqgM9mgt9hgsPy2sjdb7TBY7DD3\n",
              "42mHEgG3c4X37ESQiYL74MSQBeL+wwby8/PxzTffID8/H+fOnRuq2fdILha4L+voitNJMLW1u78l\n",
              "3V2La4Uy3A9OZ6B0pjbYO5y40WTBjSbLA5/HCw1BfNQoV1Bk4UgaLex8Df/DsBARDFY7dB4re6Ox\n",
              "DU1m12tjZ39DNzus3QkN4biah+GuJmJUZ5MxKpyPKFFnf/cwPiKFYUOykzvUhuTy76amJkyYMAEG\n",
              "gwFcLhdEhJiYGJw6darHm4XuG+jl30PN4STU/9qK6mYrqptbUK23oqbz79rmli6Pqd8XFspBfKQQ\n",
              "iaNdWxMOONCZ2twrf5PJ1uP0nnjcECgkfERLBJBLBBgj4rtW8vsruIjvXvElgrCgaeINpiHZQvT0\n",
              "sIHfB8Jms8Fms3n16+tDBvwtNISD+Cgh4qOEeCjZe5jDSWgwtqJa3+IKjN4VlJpmK2oMLbB3OHFT\n",
              "b8VNvbXHecjCeVBIBIiWCqCQCNwrvkIqQLTE1UUM02/xwRRwO9VbtmzBhg0bvPrl5ub6qRrfCw3h\n",
              "IC5SiLhI4QOHeR1OQqOprTMkVtQ0u/ZVFJ0reLSUD4VEALlYwI54DZKAazJ1tYVYsmQJxo0b59XP\n",
              "4XDg7NmzyMnJ6fc914OB1dU3Q1WXUqnEG2+88ccjDtW9qtOnT6eCggIiIjpw4ABlZ2cP6POMRiMB\n",
              "IKPR6IPqfIfV1TeBVteQNZl27tyJ/Px8bN68GRKJBAUFBUM1a4bptSELxMSJE1FaWjpUs2OYfmF7\n",
              "ZgzjIWgDwefzsX79evD5gXVmlNXVN4FWV1A8l4lhhkrQbiEYZjCwQDCMBxYIhvEwogLxySefoLFx\n",
              "YI8p6U51dTU+++yzHseZPHkyTp486bN5trW14amnnoJKpYJarcasWbNw48YNAMAjjzyCpKQkaDQa\n",
              "aDQafPzxx+7pli9fjoyMDMyYMQNGo+snjIkIjz/+OKqqqgZcV3Nzs3u+Go0GKpUKXC4XBoPBr3X1\n",
              "in/PCw4tz58C87UTJ06QWq3ucZzs7Gw6ceKEz+bZ2tpKx44dI6fTSUREO3bsoOnTpxOR68qAw4cP\n",
              "PzDNlStX6NFHHyUiog0bNtCOHTuIiGjXrl304Ycf+qw2T1u3bqUnn3wy4OrqSkBsIUpLSzFt2jSo\n",
              "1WpkZmbiyJEjOH/+PPLy8pCZmYmcnBycPn0agOubOCIiwj2txWLxuqKTw+Fg8+bNyMnJQVJSkvuM\n",
              "+MaNG1FfX4+FCxdCo9F4/YpqX7W2tmLhwoVITU2FWq3G7Nmz8fLLL+P69evQaDSYN28eAODMmTPQ\n",
              "aDRIT0/H0qVL3T8c4ysCgQBz5sxxL39ubi6qq6t7nCYsLAw2mw1OpxNWqxU8Hg8NDQ3Yt28fVq5c\n",
              "6dP67tu9ezdeeumlgKurS0MWvW40NzeTXC6nn3/+mYiIHA4H6XQ6io+Pp++//56IiEpKSkihUJDZ\n",
              "bKZbt26RVCp1T282m8lzMQDQtm3biIiooqKCRCKR+0cffbWFOHToEM2ePdtrGX6/hbDZbBQXF0fF\n",
              "xcVERHT8+HEC4NMtxO8tXryYVqxYQUSub+KJEydSeno6LViwgKqqqtzjrV27ltRqNc2fP5+sVist\n",
              "XLiQzp8/Pyg1nT59mhQKhft/ECh1dcfvgTh69Cg99NBDXv0uX75MSqXSq19mZiaVlJT0KhANDQ3u\n",
              "9xEREVRXV0dEvgtEVVUVxcfH0yuvvEL79+8nk8n0QCAuXbpEiYmJXtONGzdu0AKxadMmys3NJavV\n",
              "SkREtbW1ROT65dcdO3ZQSkpKl9N9++239Pbbb5Ner6f8/Hx65plnaP/+/T6r68UXX6R33nnH/T5Q\n",
              "6upO0ARCrVZTSUkJ1dXVkUgkcve/e/fuA4G4d++e+71MJqNbt24RkW/3IcxmMx05coRef/11SkhI\n",
              "oEOHDv1hIMaPHz8ogdi6dStlZ2d7Lffv8fl80uv1Xv2MRiNNmzaNrFYrrVu3jgoKCqi9vZ1SU1Op\n",
              "paVlwHWZzWYSiURUUVERUHX1xO/7EHl5edBqtSgpKQEAOJ1OKBQKOJ1OFBcXA3C1xRsbG6HRaBAd\n",
              "HQ0iwtWrrh8+2bt3b6/nJZFI3EcvBuL27dvgcDiYN28etm3bBiKCTCbz+uxJkyaho6MDJ06cAAD8\n",
              "8MMPg3KkZPv27di3bx+Ki4vd+1YdHR3Q6XTucQ4ePAiFQgGZTOY17bvvvov33nsPQqEQVqsVHA4H\n",
              "HA4H7e3tsNv7dk92V7766iuo1WpMmjQpoOrq0aDGrZdKS0spLy+PMjIySK1WU1FREZ07d46mTp1K\n",
              "GRkZNGXKFCopKXGPv2fPHkpKSqLJkyfTBx980OstxOeff07JycmkVqsHtKX47rvvSK1WU2ZmJqWm\n",
              "ptKaNWuovb2dnnjiCUpLS6O5c+cSkav9rFarKT09nZYuXUpqtdqnW4i6ujoCQOPGjSO1Wk1qtZpy\n",
              "cnLIYrFQdnY2paenU2ZmJs2YMYPKysq8pj116hTl5+e739+4cYOmTJlCKSkptHHjRp/UN3XqVNqz\n",
              "Z4/7faDU1RN2LRPDePB7k4lhAgkLBMN4YIFgGA8sEAzjgQWCYTywQDCMBxYIhvHAAsEwHlggGMYD\n",
              "CwTDeGCBYBgP/w+lXlw94ETZrgAAAABJRU5ErkJggg==\n",
              "\">\n",
              "        \n",
              "      </div>\n",
              "      <script></script>\n",
              "      <script type=\"text/javascript\">\n",
              "        (() => {\n",
              "          const chartElement = document.getElementById(\"chart-a848d4f9-a079-4810-8010-500f150c23bb\");\n",
              "          async function getCodeForChartHandler(event) {\n",
              "            const chartCodeResponse =  await google.colab.kernel.invokeFunction(\n",
              "                'getCodeForChart', [\"chart-a848d4f9-a079-4810-8010-500f150c23bb\"], {});\n",
              "            const responseJson = chartCodeResponse.data['application/json'];\n",
              "            await google.colab.notebook.addCell(responseJson.code, 'code');\n",
              "          }\n",
              "          chartElement.onclick = getCodeForChartHandler;\n",
              "        })();\n",
              "      </script>\n",
              "      <style>\n",
              "        .colab-quickchart-chart-with-code  {\n",
              "            display: block;\n",
              "            float: left;\n",
              "            border: 1px solid transparent;\n",
              "        }\n",
              "\n",
              "        .colab-quickchart-chart-with-code:hover {\n",
              "            cursor: pointer;\n",
              "            border: 1px solid #aaa;\n",
              "        }\n",
              "      </style>"
            ]
          },
          "metadata": {}
        },
        {
          "output_type": "display_data",
          "data": {
            "text/plain": [
              "<google.colab._quickchart_helpers.SectionTitle at 0x7a38d40d08b0>"
            ],
            "text/html": [
              "<h4 class=\"colab-quickchart-section-title\">Distributions</h4>\n",
              "<style>\n",
              "  .colab-quickchart-section-title {\n",
              "      clear: both;\n",
              "  }\n",
              "</style>"
            ]
          },
          "metadata": {}
        },
        {
          "output_type": "display_data",
          "data": {
            "text/plain": [
              "import numpy as np\n",
              "from google.colab import autoviz\n",
              "df_6041589616101290958 = autoviz.get_df('df_6041589616101290958')\n",
              "\n",
              "def histogram(df, colname, num_bins=20, figsize=(2, 1)):\n",
              "  from matplotlib import pyplot as plt\n",
              "  _, ax = plt.subplots(figsize=figsize)\n",
              "  plt.hist(df[colname], bins=num_bins, histtype='stepfilled')\n",
              "  plt.ylabel('count')\n",
              "  plt.title(colname)\n",
              "  ax.spines[['top', 'right',]].set_visible(False)\n",
              "  plt.tight_layout()\n",
              "  return autoviz.MplChart.from_current_mpl_state()\n",
              "\n",
              "chart = histogram(df_6041589616101290958, *['Pgain'], **{})\n",
              "chart"
            ],
            "text/html": [
              "      <div class=\"colab-quickchart-chart-with-code\" id=\"chart-92721fe7-d7c0-451d-a5dd-7b2102f932b3\">\n",
              "        <img src=\"data:image/png;base64,iVBORw0KGgoAAAANSUhEUgAAALkAAABgCAYAAABBnNO7AAAAOXRFWHRTb2Z0d2FyZQBNYXRwbG90\n",
              "bGliIHZlcnNpb24zLjcuMSwgaHR0cHM6Ly9tYXRwbG90bGliLm9yZy/bCgiHAAAACXBIWXMAAA9h\n",
              "AAAPYQGoP6dpAAAJmUlEQVR4nO3dS0wT7R4G8Ge4WAVKJRQLQmiDCCSAKaBEcCEu3HCMQVloCAGi\n",
              "BleKEkNAJcZLxLhCcOPCgCgSFHV1VqKAF1QuSkAiCRoPopWWaxGtCuU9C2M/Ky0wMG2n8/1/SRMY\n",
              "pp2nw9Ph7TCd4RhjDIRImIerAxDiaFRyInlUciJ5VHIieVRyInlUciJ5VHIieVRyInlUciJ5VHIJ\n",
              "8PPzQ3Nzs6tjiBaV3AnS0tKwYsUK+Pn5wd/fH3Fxcbh69apgjz81NYW0tDTBHk9qqOROUlRUhKmp\n",
              "KYyPj6O4uBgHDhygra+TUMmdzNPTE9nZ2QgMDERnZyf0ej0yMjKwevVqREREoLa2FhzHWV4Anz9/\n",
              "xo4dO6BSqSCXy7Fhwwbcvn3b6jE5jkNjYyMAoLm5GRzHoaGhAVFRUZDL5di+fTs+ffrk7KcqGlRy\n",
              "J5uZmcH169cxNjaGTZs2ISsrC2azGe/fv0dnZydu3bplNb/ZbMa+ffvw7t07jI2NoaCgAFlZWejt\n",
              "7Z13Offu3UN7ezs+fvyIb9++4fjx4458WuLGiMNt3bqVyWQyplAoWGBgIEtMTGTV1dVscHCQAWC9\n",
              "vb2WeXt6ehgA1tTUZPfxNmzYwCoqKizfA2D3799njDHW1NTEALCBgQHLzy9fvsxiYmKEf2Juwsu1\n",
              "L7F/j2PHjuHcuXNW0168eAEAUKvVlmkajcZqnvHxcRQVFaGxsRGjo6Pw8PDA1NQUDAbDvMtbu3at\n",
              "5WtfX198+fJlmc/AfdFwxYVCQ0MBAAMDA5Zpf34NAMXFxejr60NLSwuMRiMmJiYQGxsLRp91WTQq\n",
              "uQuFhYUhLS0NJSUlmJiYwMTEBE6ePGk1j9FohI+PDwIDAzE9PY3KysoFx+PEGpXcxW7evAnGGNRq\n",
              "NRISErBz504AwMqVKwEA586dg8lkgkqlgkajgV6vx5YtW1wZ2e1wjP7uiUpXVxcSEhKg0+kQEhLi\n",
              "6jiSQCV3sdevX+Pnz5/QarXQ6XTIyckBADx8+NDFyaSDhisuZjQasXfvXsjlciQlJUGpVKK2ttbV\n",
              "sSSFtuRE8mhLTiSPSk4kj0pOJI9KTiRPtCW/dOmSqyMQiRBtyf8+hoOQpXK7oxA1xf+1+7P/XfiP\n",
              "E5MQdyHaLTkhQqGSE8njXfLu7u5FTSNELHiXPC8vb1HTCBGLRb/xNBgMGBoagslkQk9Pj+WTKUaj\n",
              "EV+/fnVYQEKWa9Elr6urQ3l5OXQ6neXAfgBQKBQoKiqyeR+NRgOZTIZVq1YBAEpKSrBnz55lRiaE\n",
              "n0WXvKCgAAUFBTh79ixKS0sXvYD6+npotdqlZCNEELz3k5eWlmJ2dhZDQ0OYmZmxTA8PDxc0GCFC\n",
              "4V3ya9eu4dChQ/D29oaHx6/3rRzH2T1FQk5ODhhjSE5OxoULFxAUFDRnnh8/fuDHjx9W08xmM99o\n",
              "hNjEe+/KmTNn0N7ejtHRUQwPD2N4eNhuwR89eoTu7m68fPkSSqUSubm5NucrKyuDQqGwurW1tfGN\n",
              "RohNvEuuVCoRHR29qHl/D2G8vb1x5MgRPH782OZ8JSUlMBqNVrfk5GS+0QixiXfJMzIyUF5eDoPB\n",
              "gMnJScvtb1+/fsXExITl+7q6OiQkJNh8TJlMBn9/f6ubp6cn32iE2MR7TH7ixAkAQGFhITiOA2MM\n",
              "HMfNGUPr9XpkZmbCbDaDMYaIiAjU1NQIk5oQHniXfHZ2dlHzRURE4NWrV7wDESI0OkCLSB7vLbmH\n",
              "hwc4jpsznXb5EbHiXfI/TwFsMplQU1NDBSeixnu44uvra7kplUoUFhaioaHBEdkIEcSyx+R9fX0Y\n",
              "GRkRIgshDsF7uBIQEGAZk/8+dqWyslLYVIQIiHfJu7q6/rmzlxeCg4PpHzdE1HiXXK1W49u3b5ay\n",
              "BwQEwMfHR+hchAiGd8lbW1uRmZmJ4OBgAL/+s3nnzh2kpKQIHo4QIfAu+e+9Kb8v6dHa2oqjR4/i\n",
              "+fPngocjRAi8966YTCara9akpqbi+/fvgoYiREi8S+7n52e5xDUAPHjwAL6+voKGIkRIvIcrFRUV\n",
              "2L17t2WPyuzsLO7evSt4MEKEwrvkOp0OHR0d0Ov1AACVSkWf4iGixnu4UlpaiqCgIMTFxSEuLg5K\n",
              "pZLXp/cJcbZl/1vf1gcmCBET3sMVuVyO1tZWpKamAgCePn0KuVwueDDy72PvtNzLPSU375JfvHgR\n",
              "u3btQkxMDACgv78f9+7dszlvf38/cnNzMTIyAoVCgerqasTGxi4rMCF88S55SkoK3rx5g2fPngH4\n",
              "tZ989erVNuc9ePAg8vPzkZeXh4aGBuTl5aG9vX1ZgQnha0lj8oCAAKSnpyM9Pd1uwQ0GAzo6OpCd\n",
              "nQ0AyMzMxODgIN6+fbvksIQshcMupzI4OIiQkBB4ef1aBMdxCA8Px4cPHxAZGWk1L51BiziSKK4Z\n",
              "VFZWhtOnT1tNi4mJQWFhodU0s9mMkLY2JCcn2zy8t7DwgUNz2mI2m9E2TyZXEWOuhTLttnM/e79X\n",
              "tVqNgoKCBZfLsd8nGheYwWBAZGQkxsbG4OXlBcYYQkJC8OTJk0VtyWUyGWQymdW0yclJKBQKGI1G\n",
              "+Pv7OyI2b2LMBIgzl6syOeyUFGvWrEFiYiJu3LgBALhz5w7CwsLmFBywfQatvwtOyFI5dLhy5coV\n",
              "5OXl4fz58/D390dVVZUjF0eITQ4teXR0tGVXIyGu4lZn0JLJZDh16pSohjJizASIM5erMjnsjSch\n",
              "YuFWW3JCloJKTiSPSk4kz21K3t/fj9TUVERFRWHTpk3o7e11SQ6NRoPo6GhotVpotVrU19c7Pd/h\n",
              "w4eh0WjAcZzVyZ7my+CMfPZy2VtnzsoF5ia2bdvGqqqqGGOM3b59m23cuNElOdRqNXv16tWc6c7M\n",
              "19LSwgYHB+dkmS+DM/LZy2VvnTkrl1uUXK/XM7lczqanpxljjM3OzjKVSsX6+/udnsXWL8xV+f7M\n",
              "Ml8GZ+dbbMmdlcsthivzHdHoCjk5OYiPj8f+/fsxPDwsinzzZRBDvr/X2UKZheQWJReTxV6blPzD\n",
              "5etM0L8LDiKm4cqfdDod8/Pzo+HKPLn+9nudLZRZSG6xJedzRKMj2bs2qRjyzZfBlfnmu56r03IJ\n",
              "+pJxoL6+PrZ582a2fv16lpSUxLq7u52e4d27d0yr1bL4+HgWFxfHdu7cyd6/f+/0fPn5+Sw0NJR5\n",
              "enqyNWvWsHXr1i2YwRn5bOWab505Kxcdu0Ikzy2GK4QsB5WcSB6VnEgelZxIHpWcSB6VnEgelZxI\n",
              "HpWcSB6VnEgelZxIHpWcSN7/ARlhmWQ/zeGxAAAAAElFTkSuQmCC\n",
              "\">\n",
              "        \n",
              "      </div>\n",
              "      <script></script>\n",
              "      <script type=\"text/javascript\">\n",
              "        (() => {\n",
              "          const chartElement = document.getElementById(\"chart-92721fe7-d7c0-451d-a5dd-7b2102f932b3\");\n",
              "          async function getCodeForChartHandler(event) {\n",
              "            const chartCodeResponse =  await google.colab.kernel.invokeFunction(\n",
              "                'getCodeForChart', [\"chart-92721fe7-d7c0-451d-a5dd-7b2102f932b3\"], {});\n",
              "            const responseJson = chartCodeResponse.data['application/json'];\n",
              "            await google.colab.notebook.addCell(responseJson.code, 'code');\n",
              "          }\n",
              "          chartElement.onclick = getCodeForChartHandler;\n",
              "        })();\n",
              "      </script>\n",
              "      <style>\n",
              "        .colab-quickchart-chart-with-code  {\n",
              "            display: block;\n",
              "            float: left;\n",
              "            border: 1px solid transparent;\n",
              "        }\n",
              "\n",
              "        .colab-quickchart-chart-with-code:hover {\n",
              "            cursor: pointer;\n",
              "            border: 1px solid #aaa;\n",
              "        }\n",
              "      </style>"
            ]
          },
          "metadata": {}
        },
        {
          "output_type": "display_data",
          "data": {
            "text/plain": [
              "import numpy as np\n",
              "from google.colab import autoviz\n",
              "df_6041589616101290958 = autoviz.get_df('df_6041589616101290958')\n",
              "\n",
              "def histogram(df, colname, num_bins=20, figsize=(2, 1)):\n",
              "  from matplotlib import pyplot as plt\n",
              "  _, ax = plt.subplots(figsize=figsize)\n",
              "  plt.hist(df[colname], bins=num_bins, histtype='stepfilled')\n",
              "  plt.ylabel('count')\n",
              "  plt.title(colname)\n",
              "  ax.spines[['top', 'right',]].set_visible(False)\n",
              "  plt.tight_layout()\n",
              "  return autoviz.MplChart.from_current_mpl_state()\n",
              "\n",
              "chart = histogram(df_6041589616101290958, *['Vgain'], **{})\n",
              "chart"
            ],
            "text/html": [
              "      <div class=\"colab-quickchart-chart-with-code\" id=\"chart-40f0488e-218a-4009-95d2-3ca6492cc1da\">\n",
              "        <img src=\"data:image/png;base64,iVBORw0KGgoAAAANSUhEUgAAALkAAABgCAYAAABBnNO7AAAAOXRFWHRTb2Z0d2FyZQBNYXRwbG90\n",
              "bGliIHZlcnNpb24zLjcuMSwgaHR0cHM6Ly9tYXRwbG90bGliLm9yZy/bCgiHAAAACXBIWXMAAA9h\n",
              "AAAPYQGoP6dpAAAKCklEQVR4nO3da0hT/x8H8PdRc5ltczUry9wwL5FKdlHSHvWgB/kHKUWECh0F\n",
              "XQZljYoiJCqo6EFoERRGpgYiav3Qogv6wEoLiy7ajexuWM7rjDSt7ft/EJ1abubRs+3s9HnBwH13\n",
              "dO/Nt2dfz87O4RhjDITImI+nAxDialRyIntUciJ7VHIie1RyIntUciJ7VHIie1RyIntUciJ7VHKZ\n",
              "iImJQVFRkadjSBJHb+u71qpVq8AYw3///Tfstt27d6OqqgpPnz51f7B/CK3JXWzz5s24dOkSPnz4\n",
              "YDc+NDSEs2fPYvPmzR5K9u+gkrvY8uXLER4ejoKCArvxiooK9Pf3Izs7G58/f4bBYMDUqVMRGhqK\n",
              "/Px8hIaG4ty5cwCAr1+/IiMjA7NmzYJSqUR0dDROnjxp9/P0ej3OnDkDAHj79i04jkNRURHmz58P\n",
              "pVKJJUuW/LOvGFRyF+M4Dps2bcKZM2fw/ft3fvzUqVNYs2YNVCoVcnJy8PTpUzQ3N+PFixdobm5G\n",
              "e3s7vyxjDCkpKXjy5AksFguOHTsGk8mEa9eujXjfJSUluHr1Kjo6OhAaGvrvvmow4nLd3d0sICCA\n",
              "VVZWMsYYe/z4MQPAHj58yL5//878/f3Z5cuX+eUtFgvz8fFhhYWFTn9mamoqM5lM/HWdTscKCgoY\n",
              "Y4y9efOGAWB1dXX87ZcuXWIBAQEiPzLvQGtyN9BoNMjMzMSpU6cA/FiLJyUlYf78+ejs7MTQ0BB0\n",
              "Oh2/vEqlgkaj4a8PDg5ix44diIqKglqtRlBQEK5cuQKz2Tzi/c6cOZP/OjAwEAMDA3avJv8KKrmb\n",
              "GI1G1NTU4NGjRygpKYHRaAQAaLVa+Pv74927d/yyfX196Onp4a8fO3YM1dXVqK6uRk9PD3p7e7Fi\n",
              "xQow2jA2KlRyN0lISMCiRYuQlpYGf39/ZGRkAAB8fX2xevVqHDhwAB8/fkR/fz927twJH59fvxqL\n",
              "xQKFQoHg4GDYbDaUl5fj+vXrnnooXodK7kZGoxGvX7/GunXroFAo+PH8/HxERUUhJiYGkZGRmDdv\n",
              "HqZMmYKJEycCAHbs2IHZs2dDp9Nh5syZqK2txcqVKz30KLwPvRkkQT09PZg6dSrq6+uRlJTk6The\n",
              "j9bkEvD+/XvU1dXBarWiq6sLRqMRkZGRSEhI8HQ0WaCSS8DQ0BC2bNmCoKAgREZGore3F1VVVfDz\n",
              "8/N0NFmg6QqRPVqTE9mjkhPZo5IT2aOSE9mTbMnz8/M9HYHIhGRL/vu+HISMh9dtiNXvvuz0trdH\n",
              "/ufGJMRbSHZNTohYqORE9gSXvKmpaVRjhEiF4JIbDIZRjREiFaP+x9NsNuPTp08YGBhAc3Mz/6kU\n",
              "i8WCL1++uCwgIeM16pKXlpYiLy8PbW1tSE1N5cfVajV27drl8Hv0ej0UCgUCAgIAAHv27EFmZuY4\n",
              "IxMizKhLnpOTg5ycHBw8eBC5ubmjvoOysjLEx8ePJRshohC8nTw3Nxc2mw2fPn2y++R3WFiYqMEI\n",
              "EYvgkhcVFWHLli2YMGEC/2FbjuOcHh4hKysLjDEkJibiyJEjCA4OHrbM4OAgBgcH7casVqvQaIQ4\n",
              "JHjryoEDB3D37l10dXWho6MDHR0dTgt+48YNNDU14f79+9BqtcjOzna43OHDh6FWq+0ujY2NQqMR\n",
              "4pDgkmu1WkRHR49q2Z9TmAkTJmDbtm24efOmw+X27NkDi8Vid0lMTBQajRCHBJd85cqVyMvLg9ls\n",
              "Rl9fH3/505cvX9Db28tfLy0txYIFCxz+TIVCAZVKZXfx9fUVGo0QhwTPyffu3QsAMJlM4DgOjDFw\n",
              "HDdsDt3e3o709HRYrVYwxhAeHo7i4mJxUhMigOCS22y2US0XHh6OBw8eCA5EiNhoBy0ie4LX5D4+\n",
              "PuA4btg4bfIjUiW45J8/f+a/HhgYQHFxMRWcSJrg6UpgYCB/0Wq1MJlMqKiocEU2QkQx7jn58+fP\n",
              "0dnZKUYWQlxC8HRFo9Hwc/Kf+66cOHFC3FSEiEhwyR8+fPjrm/38MGPGDHrjhkia4JLrdDr09/fz\n",
              "ZddoNJg0aZLYuQgRjeCSNzQ0ID09HTNmzADw453NyspKOlg8kSzBJf+5NWXp0qUAfpR++/btuHPn\n",
              "jujhCBGD4K0rAwMDfMEBIDk5GV+/fhU1FCFiElzyyZMno6amhr9eW1uLwMBAUUMRIibB05Xjx48j\n",
              "LS2N36Jis9lw4cIF0YMRIhbBJW9ra8O9e/f4c79Pnz6dPsVDJE3wdCU3NxfBwcGIjY1FbGwstFqt\n",
              "oE/vE+Ju435b39EHJgiREsHTFaVSiYaGBiQnJwMA6uvroVQqRQ9G/j3ODss93kNyCy750aNHsWrV\n",
              "KsydOxcA0NLSgosXLzpctqWlBdnZ2ejs7IRarca5c+cQExMzrsCECCW45ElJSXj27Blu374N4Md2\n",
              "8qCgIIfLbty4ERs2bIDBYEBFRQUMBgPu3r07rsCECDWmOblGo0FKSgpSUlKcFtxsNuPevXtYu3Yt\n",
              "ACA9PR2tra14+fLlmMMSMhYuO51Ka2srQkJC+FNncxyHsLAwvH//HhEREXbL0hG0iCtJ4pxBhw8f\n",
              "xv79++3G5s6dC5PJZDdmtVoR0tiIxMREh7v3mky1Ls3piNVqReMImTxFirn+linNyfc5+73qdDrk\n",
              "5OT89X459vNA4yIzm82IiIhAd3c3/Pz8wBhDSEgIbt26Nao1uUKhgEKhsBvr6+uDWq2GxWKBSqVy\n",
              "RWzBpJgJkGYuT2Vy2SEppk2bhoULF+L8+fMAgMrKSoSGhg4rOOD4CFp/FpyQsXLpdOX06dMwGAw4\n",
              "dOgQVCoVCgsLXXl3hDjk0pJHR0fzmxoJ8RSvOoKWQqHAvn37JDWVkWImQJq5PJXJZf94EiIVXrUm\n",
              "J2QsqORE9qjkRPa8puQtLS1ITk5GVFQUEhIS8OTJE4/k0Ov1iI6ORnx8POLj41FWVub2fFu3boVe\n",
              "rwfHcXYHexopgzvyOcvl7DlzVy4wL7Fs2TJWWFjIGGOsvLycLV682CM5dDode/DgwbBxd+arq6tj\n",
              "ra2tw7KMlMEd+ZzlcvacuSuXV5S8vb2dKZVK9u3bN8YYYzabjU2fPp21tLS4PYujX5in8v2eZaQM\n",
              "7s432pK7K5dXTFdG2qPRE7KyshAXF4f169ejo6NDEvlGyiCFfH8+Z3/LLCavKLmUjPbcpOQXjz9n\n",
              "or4uuIiUpiu/a2trY5MnT6bpygi5/vTzOftbZjF5xZpcyB6NruTs3KRSyDdSBk/mG+l8rm7LJeqf\n",
              "jAs9f/6cLVmyhEVGRrJFixaxpqYmt2d49eoVi4+PZ3FxcSw2NpalpqayN2/euD3fhg0b2KxZs5iv\n",
              "ry+bNm0amzNnzl8zuCOfo1wjPWfuykX7rhDZ84rpCiHjQSUnskclJ7JHJSeyRyUnskclJ7JHJSey\n",
              "RyUnskclJ7JHJSeyRyUnsvd/OxzBi2neOXMAAAAASUVORK5CYII=\n",
              "\">\n",
              "        \n",
              "      </div>\n",
              "      <script></script>\n",
              "      <script type=\"text/javascript\">\n",
              "        (() => {\n",
              "          const chartElement = document.getElementById(\"chart-40f0488e-218a-4009-95d2-3ca6492cc1da\");\n",
              "          async function getCodeForChartHandler(event) {\n",
              "            const chartCodeResponse =  await google.colab.kernel.invokeFunction(\n",
              "                'getCodeForChart', [\"chart-40f0488e-218a-4009-95d2-3ca6492cc1da\"], {});\n",
              "            const responseJson = chartCodeResponse.data['application/json'];\n",
              "            await google.colab.notebook.addCell(responseJson.code, 'code');\n",
              "          }\n",
              "          chartElement.onclick = getCodeForChartHandler;\n",
              "        })();\n",
              "      </script>\n",
              "      <style>\n",
              "        .colab-quickchart-chart-with-code  {\n",
              "            display: block;\n",
              "            float: left;\n",
              "            border: 1px solid transparent;\n",
              "        }\n",
              "\n",
              "        .colab-quickchart-chart-with-code:hover {\n",
              "            cursor: pointer;\n",
              "            border: 1px solid #aaa;\n",
              "        }\n",
              "      </style>"
            ]
          },
          "metadata": {}
        },
        {
          "output_type": "display_data",
          "data": {
            "text/plain": [
              "import numpy as np\n",
              "from google.colab import autoviz\n",
              "df_6041589616101290958 = autoviz.get_df('df_6041589616101290958')\n",
              "\n",
              "def histogram(df, colname, num_bins=20, figsize=(2, 1)):\n",
              "  from matplotlib import pyplot as plt\n",
              "  _, ax = plt.subplots(figsize=figsize)\n",
              "  plt.hist(df[colname], bins=num_bins, histtype='stepfilled')\n",
              "  plt.ylabel('count')\n",
              "  plt.title(colname)\n",
              "  ax.spines[['top', 'right',]].set_visible(False)\n",
              "  plt.tight_layout()\n",
              "  return autoviz.MplChart.from_current_mpl_state()\n",
              "\n",
              "chart = histogram(df_6041589616101290958, *['Class'], **{})\n",
              "chart"
            ],
            "text/html": [
              "      <div class=\"colab-quickchart-chart-with-code\" id=\"chart-f02761fb-0162-4978-af47-cbe60ce00039\">\n",
              "        <img src=\"data:image/png;base64,iVBORw0KGgoAAAANSUhEUgAAAMQAAABgCAYAAABCK92TAAAAOXRFWHRTb2Z0d2FyZQBNYXRwbG90\n",
              "bGliIHZlcnNpb24zLjcuMSwgaHR0cHM6Ly9tYXRwbG90bGliLm9yZy/bCgiHAAAACXBIWXMAAA9h\n",
              "AAAPYQGoP6dpAAAKOUlEQVR4nO3dbUhTDR8G8Gu5NNRtWjodmhO0KaW1tMwMioogvCmtICpMhcKg\n",
              "KGtBPFYiFdRDRPTyqaBmEUi3WhA89KUio1cLNSOyplYqllPEl8ys9P98iHaf3W7q0Z2dzf4/GLhz\n",
              "djrXTl6cF8+LgogIjDEAwBS5AzDmSbgQjAlwIRgT4EIwJsCFYEyAC8GYABeCMQEuBGMCXAjGBLgQ\n",
              "Hq64uBiRkZFyx/hjcCE8wKtXr7Bp0ybodDoEBgYiOjoamzdvRlVVldzR/jhcCJndv38fKSkpCAsL\n",
              "w5MnT9Db24uamhqsWrUKpaWlcsf78xCTlcFgoKysLKfjzWYzRURE2N7//ffflJSUREFBQTRjxgxa\n",
              "s2YNNTY22sbX1NTQ0qVLSaPRUFBQECUlJVFdXR0REd27d4+Sk5NJrVbT9OnTKS0tjTo7O6X7cl6I\n",
              "1xAyslgsePfuHbKzs8c8jUqlwuXLl9HR0YG6ujoQEbZs2WIbv3PnTqxcuRIdHR1ob2/HpUuXEBQU\n",
              "BADIysrCrl270NXVhU+fPuHUqVPw9fV19dfyakq5A/zJrFYrAIjaaV69erXt55CQEBw9ehRJSUno\n",
              "7e2FSqWCr68vmpqa8PHjR8TExMBoNNo+7+vri4aGBrS2tiIiIgKLFy922XeZLHgNISOtVgsAaGlp\n",
              "GfM0FRUVWLlyJXQ6HdRqNZYtWwbgn3IVFxdDoVBgxYoViIyMxN69e/HlyxcAwK1bt9DY2Ijk5GTE\n",
              "xsaiqKgIP3/+dPG38nJyb7P96QwGA23dutXpeOE+xMDAAAUGBtLJkyepp6eHiIiqqqoIAFkslmHT\n",
              "WiwWmj17Nh08eHDYuOrqatJqtXTx4kUXfZPJgdcQMrtw4QJKS0thMpnw8eNHEBF6enpw9epVHDp0\n",
              "yO6z379/R39/P4KDg6FSqdDa2orDhw/bfaa4uBgtLS0gIqjVaiiVSiiVSnz//h1msxnt7e0AAI1G\n",
              "Ax8fHyiVvNVsR+5GMqKXL1/Sxo0bSavVUkBAAOn1etq8eTNVVVUNO8pkNptJr9dTQEAAzZ07l8xm\n",
              "s90aIjs7m3Q6Hfn7+1N4eDjt2LGD+vr6aGBggNLT0yk0NJT8/f1p5syZVFBQQIODg3J9bY+kIOJr\n",
              "qhn7jTeZGBPgQjAmwIVgTIALwZgAF4IxAckK8e3bN2RmZsJgMGDevHlYtWoV6uvrpZodYy4h6Roi\n",
              "Ly8Pb9++xcuXL5GRkYHt27dLOTvGJkyyQkybNg3p6elQKBQAgNTUVHz48GHM0589e1aiZIw557a/\n",
              "2589exYZGRkOxw0MDGBgYMBuWGNjoztiMWbHLYU4fvw46uvrcffuXYfjT5w4gSNHjtgNS01NHde8\n",
              "ov/zP9HTfPjvX+OaF5t8JD/KdOrUKdy4cQO3b9+Gv7+/w88UFBSgu7vb7pWSkiJ1NMaGkXQNcfr0\n",
              "aZSUlODOnTu2q7Yc8fPzg5+fn90wHx8fKaMx5pDoNURtbe2YhrW0tGD//v3o6urC8uXLYTQasWjR\n",
              "ovGlZMxNRK8hcnNzh90exdGwyMhI8Im0zNuMuRBWqxWfP39Gf38/Xr16Zftl7+7uRl9fn2QBGXOn\n",
              "MReipKQEZ86cQWtrK9auXWsbrtFocODAAUnCMeZuYy5Efn4+8vPzcezYMRQWFkqZiTHZiN6HKCws\n",
              "xNDQED5//mx3x4aoqCiXBmNMDqILceXKFezevRtTp07FlCm/DlIpFArbbVAY82aiC3H06FE8f/4c\n",
              "cXFxUuRhTFai/w4REhLCZWCTluhCZGZm4syZM7Barejp6bG9GJsMRG8y/b55lslkgkKhABFBoVBg\n",
              "cHDQ5eEYczfRhRgaGpIiB2Mega+pZkxA9BpiypQptqvghHiTiU0GogvR29tr+7m/vx9Xr17lMrBJ\n",
              "wyX3dl20aBGePXvmijw2JpMJp0+fdjhuPFfFjdd4rqYbKR9fnTdxzpavK5bthPch6urq0NHRMeEg\n",
              "jHkC0ZtMwcHBtn2I3+cynT9/3rWpGJOJ6ELU1NT8M7FSifDwcL7ck00aoguh1+vx9etXWzGCg4Od\n",
              "3jyAMW8juhCPHz/Ghg0bEB4eDgBoa2tDeXk5P9GSTQqiC2EymVBWVoYlS5YA+FWQffv24enTpy4P\n",
              "x5i7iT7K1N/fbysDAKSlpeHbt28uDcWYXEQXIjAwEHfu3LG9v3v3LgICAlwaijG5iN5kOnfuHNav\n",
              "X287sjQ0NIQbN264PBhjchBdiNbWVrx48QJtbW0AgLCwMFRWVro8GGNyEL3JVFhYiNDQUCQkJCAh\n",
              "IQEhISF8Fw42aUz41A2+OIhNJqILoVKp8PjxY9v7R48eQaVSuTQUY3IRvQ9x8uRJrFu3DvHx8QAA\n",
              "i8WCmzdvOvysxWJBTk4OOjo6oNFoUFxcjDlz5kwsMWMSEl2IxYsX482bN3jy5AmAX3+HcHar+x07\n",
              "diAvLw+5ubkoKytDbm4unj9/PqHAjElpXPsQwcHBSE9PR3p6utMyWK1WvHjxAllZWQCADRs2oLm5\n",
              "mZ9EyjyaZA9MaW5uhk6ng1L5axYKhQJRUVFoampCbGys3WcdPWOOd9SZHNz20MWROHrGXHx8PEwm\n",
              "k92wwcFBVFZWIiMlxW2nnJtMjp+L58zg4CB0lZVIcZJR7L/nar+XobN8nmC0jOudTDfSstXr9cjP\n",
              "zx913i65hNQRq9WK2NhYdHZ2QqlUgoig0+nw8OHDMa0hHD1mq6enBxqNBt3d3VCr1VLEnjBPz+jp\n",
              "+QB5M0p2GxqtVoukpCRcu3YNAFBeXo7IyMhhZQB+/fKr1Wq717/LwJg7SLrJdOHCBeTm5uL48eNQ\n",
              "q9Uwm81Szo6xCZO0EHFxcbbDs4x5A6+6c5+fnx+Kioo8enPK0zN6ej5A3oyS7VQz5o28ag3BmNS4\n",
              "EIwJcCEYE/CaQlgsFqSlpcFgMGDhwoV4/fq13JEQHR2NuLg4GI1GGI1GXL9+HYC8Wffs2YPo6Ggo\n",
              "FAq7m8qNlMmdeZ3lc7Ys3Z0P5CWWL19OZrOZiIhKS0tpwYIF8gYiIr1eT9XV1cOGy5m1oqKCmpub\n",
              "h2UbKZM78zrL52xZujufVxSira2NVCoV/fjxg4iIhoaGKCwsjCwWi6y5HP0nekpWYbaRMsmVd6yF\n",
              "cHc+r9hkGunMWbllZ2cjMTER27ZtQ3t7u0dmHSmTJ+X997IcLbsUvKIQnurBgweora1FVVUVQkJC\n",
              "kJOTI3ckr+Upy9IjTv8ezcyZM/Hp0yf8/PnTduZsU1MToqKiZM31e/5Tp07F3r17YTAYPDLrSJnU\n",
              "arVH5HW0LEfLLgWvWEOIOXPWXfr6+tDV1WV7X1JSgvnz53tk1pEyeUJeZ8tytOySkGTPRAJ1dXWU\n",
              "mppKs2bNouTkZKqtrZU1T0NDAxmNRkpMTKSEhARau3YtvX//XvaseXl5FBERQT4+PqTVaikmJmbU\n",
              "TO7M6yjfSMvS3fn4XCbGBLxik4kxd+FCMCbAhWBMgAvBmAAXgjEBLgRjAlwIxgS4EIwJcCEYE+BC\n",
              "MCbAhWBM4P9CNmnXgeP7MQAAAABJRU5ErkJggg==\n",
              "\">\n",
              "        \n",
              "      </div>\n",
              "      <script></script>\n",
              "      <script type=\"text/javascript\">\n",
              "        (() => {\n",
              "          const chartElement = document.getElementById(\"chart-f02761fb-0162-4978-af47-cbe60ce00039\");\n",
              "          async function getCodeForChartHandler(event) {\n",
              "            const chartCodeResponse =  await google.colab.kernel.invokeFunction(\n",
              "                'getCodeForChart', [\"chart-f02761fb-0162-4978-af47-cbe60ce00039\"], {});\n",
              "            const responseJson = chartCodeResponse.data['application/json'];\n",
              "            await google.colab.notebook.addCell(responseJson.code, 'code');\n",
              "          }\n",
              "          chartElement.onclick = getCodeForChartHandler;\n",
              "        })();\n",
              "      </script>\n",
              "      <style>\n",
              "        .colab-quickchart-chart-with-code  {\n",
              "            display: block;\n",
              "            float: left;\n",
              "            border: 1px solid transparent;\n",
              "        }\n",
              "\n",
              "        .colab-quickchart-chart-with-code:hover {\n",
              "            cursor: pointer;\n",
              "            border: 1px solid #aaa;\n",
              "        }\n",
              "      </style>"
            ]
          },
          "metadata": {}
        },
        {
          "output_type": "display_data",
          "data": {
            "text/plain": [
              "<google.colab._quickchart_helpers.SectionTitle at 0x7a38cdfaa350>"
            ],
            "text/html": [
              "<h4 class=\"colab-quickchart-section-title\">2-d distributions</h4>\n",
              "<style>\n",
              "  .colab-quickchart-section-title {\n",
              "      clear: both;\n",
              "  }\n",
              "</style>"
            ]
          },
          "metadata": {}
        },
        {
          "output_type": "display_data",
          "data": {
            "text/plain": [
              "import numpy as np\n",
              "from google.colab import autoviz\n",
              "df_6041589616101290958 = autoviz.get_df('df_6041589616101290958')\n",
              "\n",
              "def scatter_plots(df, colname_pairs, scatter_plot_size=2.5, size=8, alpha=.6):\n",
              "  from matplotlib import pyplot as plt\n",
              "  plt.figure(figsize=(len(colname_pairs) * scatter_plot_size, scatter_plot_size))\n",
              "  for plot_i, (x_colname, y_colname) in enumerate(colname_pairs, start=1):\n",
              "    ax = plt.subplot(1, len(colname_pairs), plot_i)\n",
              "    ax.scatter(df[x_colname], df[y_colname], s=size, alpha=alpha)\n",
              "    plt.xlabel(x_colname)\n",
              "    plt.ylabel(y_colname)\n",
              "    ax.spines[['top', 'right',]].set_visible(False)\n",
              "  plt.tight_layout()\n",
              "  return autoviz.MplChart.from_current_mpl_state()\n",
              "\n",
              "chart = scatter_plots(df_6041589616101290958, *[[['Pgain', 'Vgain'], ['Vgain', 'Class']]], **{})\n",
              "chart"
            ],
            "text/html": [
              "      <div class=\"colab-quickchart-chart-with-code\" id=\"chart-85a52234-16d0-48b2-9353-ce5a495b23cc\">\n",
              "        <img src=\"data:image/png;base64,iVBORw0KGgoAAAANSUhEUgAAAfAAAAD2CAYAAAApgtVPAAAAOXRFWHRTb2Z0d2FyZQBNYXRwbG90\n",
              "bGliIHZlcnNpb24zLjcuMSwgaHR0cHM6Ly9tYXRwbG90bGliLm9yZy/bCgiHAAAACXBIWXMAAA9h\n",
              "AAAPYQGoP6dpAAAhkElEQVR4nO3df3DU9Z3H8ddmN+4qbBIhJMaGEMKayI/AAsIhioK1wwhUONHG\n",
              "6SHkiiTVUawyPfGU2rlzSNvjoBT6gzL8OKUgrXEoDtebtmf5VVpDwJjKTDQhxUQKJIWYH0iWzeZ7\n",
              "f3BuXfOjm5jd736zz8fMd3S/393vvj9J3ry+P3a/X5thGIYAAIClJJhdAAAA6DsCHAAACyLAAQCw\n",
              "IAIcAAALIsABALAgAhwAAAsiwAEAsCACHAAACyLAAQCwoIgG+MqVK5WdnS2bzaaKigpJ0sWLF+X1\n",
              "eoNTbm6uHA6HLl26JEmaPXu2Ro8eHVy+YcOGSJYIIEz0MxBbHJFc+YMPPqh/+Zd/0Z133hmcN3z4\n",
              "8GDzS9K6det06NAhDRs2LDhvw4YNWrRoUSRLA9BH9DMQWyIa4Hfdddfffc62bdtUUlISyTIADAD6\n",
              "GYgtpp4DP3bsmJqamrRgwYKQ+atXr1Z+fr4KCgpUW1vb4+t9Pp9aWlpCJp/PF+myAXSDfgaiy9QA\n",
              "37Ztm5YuXSqH428HAl555RVVVVWpsrJSs2bN6vKPwaeVlJQoOTk5ZFq4cGE0SgfwGfQzEF22aNxO\n",
              "NDs7W/v27ZPX6w3Oa2trU0ZGho4fP65bb721x9e6XC6dPXtWw4cP77LM5/N12UJfs2aNNm7cOGC1\n",
              "AwhFPwOxIaLnwHuzd+9eTZo0KaTZOzo6dPHiRaWnp0uSSktLlZ6e3m2zS5LT6ZTT6QyZZ7fbI1c0\n",
              "gG7Rz0D0RTTAi4uLdeDAAZ0/f15z586V2+1WTU2NpGuH21asWBHyfJ/Pp/nz58vn8ykhIUGpqana\n",
              "v39/JEsEECb6GYgtEQ3wLVu29Ljs2LFjXeYNGTJE5eXlkSwJQD/Rz0Bs4UpsQAzzBzp16fJV+QOd\n",
              "ZpcC4HMa6H427Rw4gN7VNLRp6+FaNbb5NMLt1IpZOfKkDTW7LAD9EIl+Zg8ciEH+QKe2Hq7V6cY2\n",
              "uRLtOt3Qpq1HatkTBywoUv3MHjgQg1rbO9TY5lNakkvJ1ydKkhpbfWpt79CwIdeZXB2AvohUP7MH\n",
              "DsQgt8uhEW6nGlra1XzFr4aWdo1wO+V2sc0NWE2k+pkAB2JQoj1BK2blaEzaULX7AxqTNlQrZuUo\n",
              "0U7LAlYTqX5mcx6IUZ60oXpp0QS1tnfI7XIQ3oCFRaKfCXAghiXaEzjnDQwSA93PbNIDAGBBBDgA\n",
              "ABZEgAMAYEEEOAAAFkSAAwBgQQQ4AAAWRIADAGBBBDgAABZEgAMAYEERDfCVK1cqOztbNptNFRUV\n",
              "wfnZ2dnKy8uT1+uV1+vV3r17g8uqq6s1c+ZM5ebmatq0aTp16lQkSwQQJvoZiC0RDfAHH3xQR48e\n",
              "1ahRo7os27t3ryoqKlRRUaGCgoLg/OLiYhUVFen999/Xs88+q8LCwkiWCCBM9DMQWyIa4HfddZcy\n",
              "MzPDfn5DQ4PKy8u1ZMkSSdLixYtVX1+vmpqaSJUIIEz0MxBbTDsHvnTpUuXn52v58uVqbGyUJNXX\n",
              "1ysjI0MOx7V7rNhsNmVlZamurq7bdfh8PrW0tIRMgUAgamMAcA39DESfKQF++PBhVVZW6uTJk0pN\n",
              "TdWyZcv6tZ6SkhIlJyeHTGVlZQNcLYDe0M+AOUwJ8KysLElSYmKivvGNb+jIkSOSpJEjR+rcuXPq\n",
              "6OiQJBmGobq6uuDzP+u5555Tc3NzyDR9+vToDAKAJPoZMEvUA/zy5cv66KOPgo/37NmjyZMnS5LS\n",
              "0tI0ZcoU7dq1S5JUWlqqzMxMeTyebtfldDqVlJQUMtnt9oiPAcA19DNgHkckV15cXKwDBw7o/Pnz\n",
              "mjt3rtxut379619r8eLFCgQCMgxDOTk5evnll4Ov2bJliwoLC7V27VolJSVpx44dkSwRQJjoZyC2\n",
              "2AzDMMwuYiA988wzWr9+vdllABgA9DPQM67EBgCABRHgAABYEAEOAIAFEeAAAFgQAQ4AgAUR4AAA\n",
              "WBABDgCABRHgAABYEAEOAIAFEeAAAFgQAQ4AgAUR4AAAWBABDgCABRHgAABYEAEOAIAFEeAAAFgQ\n",
              "AQ4AgAVFNMBXrlyp7Oxs2Ww2VVRUSJLa29u1aNEi5ebmatKkSfrSl76kmpqa4Gtmz56t0aNHy+v1\n",
              "yuv1asOGDZEsEUCY6GcgtkQ0wB988EEdPXpUo0aNCplfVFSk9957T++8844WLlyoRx99NGT5hg0b\n",
              "VFFRoYqKCj399NORLBFAmOhnILZENMDvuusuZWZmhsxzuVyaN2+ebDabJGnGjBk6c+ZMJMsAMADo\n",
              "ZyC2mH4OfOPGjVq4cGHIvNWrVys/P18FBQWqra3t8bU+n08tLS0hUyAQiHTJAHpAPwPRY2qAr127\n",
              "VjU1NSopKQnOe+WVV1RVVaXKykrNmjVLCxYs6PH1JSUlSk5ODpnKysqiUTqAz6CfgegyLcDXrVun\n",
              "119/Xb/61a90ww03BOePHDlSkmSz2fTEE0+otrZWFy9e7HYdzz33nJqbm0Om6dOnR6V+AH9DPwPR\n",
              "5zDjTdevX689e/bot7/9rVJSUoLzOzo6dPHiRaWnp0uSSktLlZ6eruHDh3e7HqfTKafTGTLPbrdH\n",
              "rG4AXdHPgDkiGuDFxcU6cOCAzp8/r7lz58rtduvgwYNatWqVcnJyNGfOHEnXGvett96Sz+fT/Pnz\n",
              "5fP5lJCQoNTUVO3fvz+SJQIIE/0MxJaIBviWLVu6nW8YRrfzhwwZovLy8kiWBKCf6Gcgtpj+KXQA\n",
              "ANB3BDgAABZEgAMAYEEEOAAAFkSAAwBgQQQ4AAAWRIADAGBBBDgAABZEgAMAYEEEOAAAFkSAAwBg\n",
              "QQQ4AAAWRIADAGBBBDgAABZEgAMAYEEEOAAAFkSAAwBgQQQ4AAAWFNEAX7lypbKzs2Wz2VRRURGc\n",
              "X11drZkzZyo3N1fTpk3TqVOnwloGwDz0MxBbIhrgDz74oI4ePapRo0aFzC8uLlZRUZHef/99Pfvs\n",
              "syosLAxrGQDz0M9AjDGiYNSoUcbbb79tGIZhXLhwwXC73Ybf7zcMwzA6OzuN9PR0o7q6utdl4Xr6\n",
              "6acHvH4Af0M/A7HBEe0Nhvr6emVkZMjhuPbWNptNWVlZqqurU3Jyco/LPB5Pl3X5fD75fL6QeYFA\n",
              "IPKDACCJfgbMZOkPsZWUlCg5OTlkKisrM7ssAP1APwN9E/UAHzlypM6dO6eOjg5JkmEYqqurU1ZW\n",
              "Vq/LuvPcc8+pubk5ZJo+fXrUxgLEO/oZME/UAzwtLU1TpkzRrl27JEmlpaXKzMyUx+PpdVl3nE6n\n",
              "kpKSQia73R61sQDxjn4GTNSXE+YnTpww5s6da9xyyy3G6NGjg1NPioqKjC984QuG3W430tLSjDFj\n",
              "xhiGYRhVVVXGjBkzjFtuucWYOnWqUVlZGXxNb8vCwYdegMign4HYYjMMwwg37PPz8/XEE0/o9ttv\n",
              "D9kyHj9+fEQ2LvrjmWee0fr1680uA7CEN954Q3fffbeSkpK0bt06/fGPf9S3v/1tTZgwwezSJNHP\n",
              "QG/69Cl0u92u4uLiSNUCIMqef/55VVZW6p133tGuXbv02GOP6bHHHtORI0fMLg3A39Gnc+B33HGH\n",
              "ysvLI1ULgCj75Ctev/71r1VUVKTi4mJdvnzZ5KoAhKNPe+CHDx/W1q1b5fF45HK5gvNPnjw54IUB\n",
              "iLxAIKC33npLpaWl2rFjhyTJ7/ebXBWAcPQpwDdv3hypOgCY4KWXXlJxcbHuvfdejR07Vu+9955y\n",
              "c3PNLgtAGPoU4HfffXek6gBggi9/+cv68pe/HHycl5en0tJSEysCEK6wzoGvWrVKkvSP//iPeuCB\n",
              "B7pMAKzpW9/6lj766CMZhqH58+crNTWVAAcsIqw98NmzZ0uSFi1aFMFSAETbL3/5S/3bv/2bfvOb\n",
              "38jhcOj3v/+9Hn74YS1evNjs0gD8HWEF+CeH2JYtWxbRYgBEV0LCtYNwhw4d0kMPPaS8vDzZbDaT\n",
              "qwIQjj7fjeznP/+5Kioq1N7eHpzHhRYAaxoyZIi++93v6tVXX9Xvf/97GYahq1evml0WgDD06Xvg\n",
              "K1eu1CuvvKKdO3fKZrPptddeU3Nzc6RqAxBhO3fu1Llz5/S9731P6enpOn36tJYsWWJ2WQDC0KcA\n",
              "/93vfqdf/vKXGjFihP7zP/9TZWVl+vDDDyNVG4AI83g8+v73vx/8MKrH49Hq1atNrgpAOPp0CN3l\n",
              "cikhIUE2m01+v1833XST/vKXv0SqNgARduXKFW3atKnLabHXX3/dxKoAhKNPe+But1sff/yx7rzz\n",
              "Ti1ZskRPPfWUbrjhhkjVBiDCVqxYoTNnzujYsWOaM2eOPvjgA40aNcrssgCEoU8BvmfPHtntdv3H\n",
              "f/yHJk6cqMTERL322muRqg1AhL3zzjv60Y9+pKSkJD355JM6ePCgTpw4YXZZAMLQp0Po6enpwf9/\n",
              "/vnnB7wYANF1/fXXS7p2U5PLly/L7XarsbHR5KoAhKNPAT5nzpwu3xFNSUnR7bffrpUrV8rpdA5o\n",
              "cQAia9iwYWpqatK8efM0d+5cpaamKjMz0+yyAIShT4fQp06dKofDoeXLl+vRRx/Vddddp5tvvlnl\n",
              "5eV68sknI1UjgAg5cOCAbrzxRv37v/+7vv71r+vee+/lUqqARfRpD/zYsWM6cuSI7Ha7JOmhhx7S\n",
              "rFmzdPToUeXn54e9nosXL+qLX/xi8PHHH3+s2tpaNTQ06IEHHtAHH3yg5ORkSdeu/vb000/3pUwA\n",
              "Yfqkl202W7+//00/A+boU4BfvHgx5BC6zWZTU1OTHA5HyP3B/57hw4eroqIi+HjdunU6dOiQhg0b\n",
              "JknasGED110HImjy5Mm9XjL15MmTYa+LfgbM0acA/+IXv6j77rsvuKW+e/du3XPPPWpra/tc57+3\n",
              "bdumkpKSfr8eQN98+9vf1qVLl5STkxMyv7a2Nhi8/UU/A9ER1jnwffv2KRAI6Ac/+IEWLlyoffv2\n",
              "ad++fVqwYIE2bdqkoUOH6o9//GO/Cjh27Jiampq0YMGC4LzVq1crPz9fBQUFqq2t7fG1Pp9PLS0t\n",
              "IVMgEOhXHUA8+dWvfqWkpCTdfffdIVNycrL+53/+p9/rpZ+BKDLCMGnSJCM9Pd345je/aVRVVYXz\n",
              "krB97WtfM775zW8GH9fV1RmGYRidnZ3Gpk2bjLFjx/b42hdffNGQFDLNmDFjQOsDBqPJkyf3uGzc\n",
              "uHH9Xi/9DESPzTAMI5ygLy8v144dO7Rnzx6NGzdOjz76qL7yla98riuxtbW1KSMjQ8ePH9ett97a\n",
              "7XNcLpfOnj2r4cOHd1nm8/nk8/lC5q1Zs0YbN27sd01APJg4caIqKyu7XZafn68//elPfV4n/QxE\n",
              "V9hfI7vtttv0wx/+UOfOndPjjz+un/3sZ7r55ptVVFTU7zffu3evJk2aFGz2jo4OXbhwIbi8tLRU\n",
              "6enp3Ta7JDmdTiUlJYVMn3yqFkDP/H6/Wlpausxvbm6W3+/v1zrpZyC6+nw/cKfTqa985StyuVxq\n",
              "amrSq6++qp/+9Kf9evNt27ZpxYoVwcc+n0/z58+Xz+dTQkKCUlNTtX///n6tG0DPHn74YT3yyCPa\n",
              "uXOnbrzxRklSU1OTli9frocffrhf66SfgejqU4C/++672rZtm3bv3i2Px6PHHntMBQUF/X7zY8eO\n",
              "hTweMmSIysvL+70+AOF54YUX9LWvfU0jR47ULbfcIkmqrq7W4sWLtWbNmn6tk34GoiusAP/Rj36k\n",
              "7du368MPP9QjjzyigwcPauzYsZGuDUCE2O12/dd//Ze+9a1vBb/zPWXKFI0ZM8bkygCEK6wAP3Dg\n",
              "gP71X/9V999/vxyOPh91BxCjxowZQ2gDFhV2gAMAgNjRp5uZAACA2ECAAwBgQQQ4AAAWRIADAGBB\n",
              "BDgAABZEgAMAYEEEOAAAFkSAAwBgQQQ4AAAWRIADAGBBBDgAABZEgAMAYEEEOAAAFkSAAwBgQaYF\n",
              "eHZ2tvLy8uT1euX1erV3715JUnV1tWbOnKnc3FxNmzZNp06dMqtEAGGKlX72Bzp16fJV+QOdEX0f\n",
              "IBaEdT/wSNm7d6+8Xm/IvOLiYhUVFamwsFCvvfaaCgsLdfz4cXMKBBA2s/u5pqFNWw/XqrHNpxFu\n",
              "p1bMypEnbWhE3guIBTF1CL2hoUHl5eVasmSJJGnx4sWqr69XTU2NyZUB6Kto9rM/0Kmth2t1urFN\n",
              "rkS7Tje0aeuRWvbEMaiZuge+dOlSGYah6dOn6zvf+Y7q6+uVkZEhh+NaWTabTVlZWaqrq5PH4+ny\n",
              "ep/PJ5/PFzIvEAhEpXYAoczs59b2DjW2+ZSW5FLy9YmSpMZWn1rbOzRsyHWfc2RAbDJtD/zw4cOq\n",
              "rKzUyZMnlZqaqmXLlvV5HSUlJUpOTg6ZysrKIlAtgN6Y3c9ul0Mj3E41tLSr+YpfDS3tGuF2yu0y\n",
              "dR8FiCibYRiG2UWcO3dOubm5On36tDwejy5duiSHwyHDMJSRkaGjR4+GvcW+Zs0abdy4MVqlA/gM\n",
              "s/q55v8Pmze2cg4c8cGUzdPLly/L7/crJSVFkrRnzx5NnjxZaWlpmjJlinbt2qXCwkKVlpYqMzOz\n",
              "22aXJKfTKafTGTLPbrdHunwAnxIr/exJG6qXFk1Qa3uH3C6HEu0x9REfYMCZEuAXLlzQ4sWLFQgE\n",
              "ZBiGcnJy9PLLL0uStmzZosLCQq1du1ZJSUnasWOHGSUCCFMs9XOiPYFz3ogbpgR4Tk6O3n777W6X\n",
              "5eXl6Q9/+EOUKwLQX/QzYA6OMQEAYEEEOAAAFkSAAwBgQQQ4AAAWRIADAGBBBDgAABZEgAMAYEEE\n",
              "OAAAFkSAAwBgQQQ4gEHBH+jUpctXuQc44gb32gNgeTUNbdp6uFaNbdyJDPGDPXAAluYPdGrr4Vqd\n",
              "bmyTK9Gu0/9/W1H2xDHYsQcOwNJa2zvU2OZTWpJLydcnSpIaW31qbe/gzmQY1NgDB2BpbpdDI9xO\n",
              "NbS0q/mKXw0t7RrhdsrtYv8EgxsBDsDSEu0JWjErR2PShqrdH9CYtKFaMStHiXb+ecPgxiYqAMvz\n",
              "pA3VS4smqLW9Q26Xg/BGXCDAAQwKifYEznkjrpiymdre3q5FixYpNzdXkyZN0pe+9CXV1NRIkmbP\n",
              "nq3Ro0fL6/XK6/Vqw4YNZpQIIEz0M2AO0/bAi4qKdN9998lms2nz5s169NFHdfDgQUnShg0btGjR\n",
              "IrNKA9BH9DMQfabsgbtcLs2bN082m02SNGPGDJ05c8aMUgB8TvQzYI6Y+KTHxo0btXDhwuDj1atX\n",
              "Kz8/XwUFBaqtre3xdT6fTy0tLSFTIBCIRskAekA/A9FheoCvXbtWNTU1KikpkSS98sorqqqqUmVl\n",
              "pWbNmqUFCxb0+NqSkhIlJyeHTGVlZdEqHcBn0M9A9NgMwzDMevN169bp1Vdf1W9/+1ulpKR0+xyX\n",
              "y6WzZ89q+PDhXZb5fD75fL6QeWvWrNHGjRsjUS6AXpjVz/5AJ18fQ1wy7UNs69ev1549e0KavaOj\n",
              "QxcvXlR6erokqbS0VOnp6d02uyQ5nU45nc6QeXa7PaJ1A+jKrH7mJiaIZ6YE+IcffqhVq1YpJydH\n",
              "c+bMkXSted98803Nnz9fPp9PCQkJSk1N1f79+80oEUCYzOrnT9/EJC3JFbyJyUuLJrAnjrhgSoBn\n",
              "ZmaqpyP35eXlUa4GwOdhVj9/chOTVLdTLkeCUt1ObmKCuMKV2ABYktvlkNORoON/viRbgk1Gp6Fp\n",
              "o4dxExPEDY4zAbA2myQZ//9fIH6wqQrAklrbO+Tr6NRt2cN0w3V2fXw1IF9HJ4fQETfYAwdgSZ/c\n",
              "B/yvrT61+zv111Yf9wFHXCHAAVhSoj1B/3xHtjJvvF5XrnZwH3DEHf7SAVhSTUObdhw9o4+u+JV8\n",
              "faL+eWY23wFHXCHAAVjOp78DfsN1Dn3YdEU7jp2RP9BpdmlA1BDgACynt++AA/GCT3sAsBy+Aw6w\n",
              "Bw7AyvgOOOIYm6sALIfvgAPsgQOwIL4DDhDgACwo0Z6gFbNyNCZtqNr9Ab4DjrjE5qqufSWltb1D\n",
              "bpeDfwAAi/CkDdVLiybQu4hbcR/gVedb9JODp9V8xa+0JJdWzMrhYhCARSTaEzjnjbgV15usVeda\n",
              "9Niuk/pdVaOqG9r07tlmbT1Sy8UgAAAxL24D3B/o1ObfVaux1SfXdQlq9wfUfMWvhpZ2LgYBAIh5\n",
              "MRng1dXVmjlzpnJzczVt2jSdOnVqwNbtD3Tq0uWrKi2v129OXdBlX4caW33q6DTUeqVDydcn8klW\n",
              "YABFo585aoZ4FJNJVVxcrKKiIhUWFuq1115TYWGhjh8//rnXW9PQpq2Ha3Xq7Ed691xrcL5hSC0f\n",
              "+5U1/AZ9ffYYPgwDDKBI93Nj27WvkPH5FcSbmEuqhoYGlZeXa8mSJZKkxYsXq76+XjU1NZ9rvZ/c\n",
              "/OD9Cy063Xi5y3JHgvT8/LG69aakz/U+AP4m0v18urFNrkS7Tje08fkVxJ2Y2wOvr69XRkaGHI5r\n",
              "pdlsNmVlZamurk4ejyfkuT6fTz6fL2ReIBDodr2f3PzA7bpOAcPosnxEklN3eFIHaBQApMj3c1qS\n",
              "S8nXJ0pS8GYmfCod8SLm9sD7oqSkRMnJySFTWVlZt8/95MpNre1X5fjMIXJHgvTC/HG64bqY254B\n",
              "4kZ/+rmhpT344VOuxIZ4E3MBPnLkSJ07d04dHdc+CW4Yhurq6pSVldXluc8995yam5tDpunTp3e7\n",
              "3k+u3JR7U5I8I4ZqqNOuZJdDmSnXa9NXp+i+/JsjOi4gHkW6n7kSG+JZzG2upqWlacqUKdq1a5cK\n",
              "CwtVWlqqzMzMLofbJMnpdMrpdIbMs9vtPa7701dusidIf227qoxkF3veQIREq5+5EhviUUwm15Yt\n",
              "W1RYWKi1a9cqKSlJO3bsGLB1f/rKTcnXc64MiLRo9TMQb2IywPPy8vSHP/zB7DIADAD6GYgMjjkB\n",
              "AGBBBDgAABZEgAMAYEE2w+jmqiYW9sADDyg7O7vbZYFAQGVlZZo+fXqvn261CsYT26I5nlGjRump\n",
              "p56K6HuYgX62LsbTf+H286AL8N60tLQoOTlZzc3NSkqy/iVTGU9sG2zjiTWD7efLeGJbLI6HQ+gA\n",
              "AFgQAQ4AgAUR4AAAWFBcBbjT6dSLL77Y5XKNVsV4YttgG0+sGWw/X8YT22JxPHH1ITYAAAaLuNoD\n",
              "BwBgsCDAAQCwIAIcAAALipsAr66u1syZM5Wbm6tp06bp1KlTZpfUZ9nZ2crLy5PX65XX69XevXsl\n",
              "WWNsK1euVHZ2tmw2myoqKoLze6s9lsfV03h6+h1JsT0eqxkMP0v6OXbGZdl+NuLEnDlzjB07dhiG\n",
              "YRi/+MUvjNtuu83cgvph1KhRxttvv91lvhXGdujQIaO+vr7LGHqrPZbH1dN4evodGUZsj8dqBsPP\n",
              "kn6OnXFZtZ/jIsAvXLhguN1uw+/3G4ZhGJ2dnUZ6erpRXV1tcmV9090fk9XG9ukx9Fa7VcYVbsNb\n",
              "ZTxWMFh+lvRz7I3Lav0cF4fQ6+vrlZGRIYfDIUmy2WzKyspSXV2dyZX13dKlS5Wfn6/ly5ersbHR\n",
              "0mPrrXYrj+uzvyNpcP0Nmm0w/Szp59gfVyz3c1wE+GBx+PBhVVZW6uTJk0pNTdWyZcvMLgmfwe8I\n",
              "4eJvJfbF+u/IYXYB0TBy5EidO3dOHR0dcjgcMgxDdXV1ysrKMru0Pvmk3sTERH3jG99Qbm6upcfW\n",
              "W+1JSUmWHFd3vyNp8PwNxoLB8rOkn2N/XLHez3GxB56WlqYpU6Zo165dkqTS0lJlZmbK4/GYXFn4\n",
              "Ll++rI8++ij4eM+ePZo8ebKlx9Zb7VYcV0+/I2lw/A3GisHws6SfY39clujnqJ5xN1FVVZUxY8YM\n",
              "45ZbbjGmTp1qVFZWml1Sn5w+fdrwer1Gfn6+MWHCBOP+++83/vznPxuGYY2xFRUVGV/4whcMu91u\n",
              "pKWlGWPGjDEMo/faY3lc3Y2nt9+RYcT2eKzG6j9L+jm2xmXVfuZa6AAAWFBcHEIHAGCwIcABALAg\n",
              "AhxdfPrygePGjdMPf/jDfq+rvLxcBQUFA1gdgHDMmzdPmzdv7jJ/0qRJev311/u1zv379+vpp5/+\n",
              "vKVhgHAOHF1kZ2dr37598nq9+uCDDzRx4kQdOXJEEydONLs0AGEqLS3V2rVrdeLEieC88vJyzZs3\n",
              "T2fPnlViYqKJ1WEgsAeOXo0aNUp5eXl6//339eKLL8rj8WjatGl64YUXlJ2dLUnq6OjQ3Llzddtt\n",
              "t2n8+PH66le/qsuXL0uSDh48KK/XK0k6c+aMUlJS9OKLL2rq1KnyeDz67//+b5NGBgxu999/v+rr\n",
              "61VZWRmct337di1dulSS9Pjjjys3N1czZszQqlWrNHv2bEnS+fPnNWfOHE2dOlXjx4/XE088oc7O\n",
              "TknSzp07tWjRIknXenvChAl6/PHHNWnSJI0fP17l5eVRHWO8I8DRqz/96U+qqqrS2bNnVVpaqrff\n",
              "fltlZWU6e/Zs8Dl2u127d+9WeXm53n33XSUnJ2vTpk3drq+5uVkTJ07UiRMntHnzZg7HARGSmJio\n",
              "Rx55RNu3b5cktbe3a8+ePVq+fLl++tOfqrq6WqdOndKRI0dCQj4lJUVvvPGGTpw4ocrKSp05c0Y/\n",
              "//nPu32PqqoqLVu2TO+8846efPJJPf/881EZG64hwNGtgoICeb1eFRcXa/v27frggw/00EMPye12\n",
              "y2azafny5cHnGoahDRs2aPLkyZo4caIOHDgQcku+T3O5XHrggQckSbfffrtOnz4djeEAcWn58uX6\n",
              "2c9+pqtXr+r111/X2LFjNXbsWP3v//6vlixZosTERCUmJoZcIrSzs1PPPvusJk2apMmTJ6u8vLzH\n",
              "fvZ4PPqHf/gHSfSzGeLiUqrou7179wYPfUvSsWPHQpbbbLbg/+/evVtvvvmmDh06pKSkJP3gBz/Q\n",
              "m2++2e16nU5n8LV2u12BQGDgiwcgSRo3bpw8Ho/eeOMNbd++PWTD+9M+3c/r169XQ0OD3nrrLblc\n",
              "Lj3zzDNqb2/v9nUulyv4/3a7XR0dHQM7APSKPXCE5Z577lFpaana2tpkGEbwsJwkNTU1KTU1VUlJ\n",
              "SWptbdXOnTvNKxRAiOXLl2vt2rUqKysLfiPknnvu0e7du+X3++X3+/Xyyy8Hn9/U1KSbbrpJLpdL\n",
              "58+f1y9+8QuzSsffQYAjLAsWLNDChQvl9Xo1bdo0paSkKCUlRdK12+19/PHHysvL03333adZs2aZ\n",
              "WyyAoIKCAr333nt66KGHNHToUElScXGxsrOzNW7cON1xxx0aM2ZMsJ+feuopvfXWWxo/frweeeQR\n",
              "3XvvvSZWj97wNTKErbW1VW63W4ZhaNWqVbpy5Yp+/OMfm10WgH74pJ/9fr/+6Z/+SVOnTtWzzz5r\n",
              "dlnoA86BI2xLly7VmTNn1N7ervHjx+snP/mJ2SUB6Kd7771XPp9P7e3tuvPOO7Vy5UqzS0IfsQcO\n",
              "AIAFcQ4cAAALIsABALAgAhwAAAsiwAEAsCACHAAACyLAAQCwIAIcAAALIsABALAgAhwAAAv6P0VY\n",
              "982l1Y4mAAAAAElFTkSuQmCC\n",
              "\">\n",
              "        \n",
              "      </div>\n",
              "      <script></script>\n",
              "      <script type=\"text/javascript\">\n",
              "        (() => {\n",
              "          const chartElement = document.getElementById(\"chart-85a52234-16d0-48b2-9353-ce5a495b23cc\");\n",
              "          async function getCodeForChartHandler(event) {\n",
              "            const chartCodeResponse =  await google.colab.kernel.invokeFunction(\n",
              "                'getCodeForChart', [\"chart-85a52234-16d0-48b2-9353-ce5a495b23cc\"], {});\n",
              "            const responseJson = chartCodeResponse.data['application/json'];\n",
              "            await google.colab.notebook.addCell(responseJson.code, 'code');\n",
              "          }\n",
              "          chartElement.onclick = getCodeForChartHandler;\n",
              "        })();\n",
              "      </script>\n",
              "      <style>\n",
              "        .colab-quickchart-chart-with-code  {\n",
              "            display: block;\n",
              "            float: left;\n",
              "            border: 1px solid transparent;\n",
              "        }\n",
              "\n",
              "        .colab-quickchart-chart-with-code:hover {\n",
              "            cursor: pointer;\n",
              "            border: 1px solid #aaa;\n",
              "        }\n",
              "      </style>"
            ]
          },
          "metadata": {}
        }
      ]
    },
    {
      "cell_type": "code",
      "source": [
        "df.columns"
      ],
      "metadata": {
        "colab": {
          "base_uri": "https://localhost:8080/"
        },
        "id": "bjorIJjQmKHu",
        "outputId": "21e6e07f-63c8-404e-dfd7-7401d57ffae9"
      },
      "execution_count": null,
      "outputs": [
        {
          "output_type": "execute_result",
          "data": {
            "text/plain": [
              "Index(['Motor', 'Screw', 'Pgain', 'Vgain', 'Class'], dtype='object')"
            ]
          },
          "metadata": {},
          "execution_count": 10
        }
      ]
    },
    {
      "cell_type": "code",
      "source": [
        "df.shape"
      ],
      "metadata": {
        "colab": {
          "base_uri": "https://localhost:8080/"
        },
        "id": "eQSOq4H_mSw9",
        "outputId": "e62808d6-d471-4a6c-c69f-c710dee2ecf0"
      },
      "execution_count": null,
      "outputs": [
        {
          "output_type": "execute_result",
          "data": {
            "text/plain": [
              "(167, 5)"
            ]
          },
          "metadata": {},
          "execution_count": 12
        }
      ]
    },
    {
      "cell_type": "code",
      "source": [
        "df[['Motor']].value_counts()"
      ],
      "metadata": {
        "colab": {
          "base_uri": "https://localhost:8080/"
        },
        "id": "JTYyXTPrmie-",
        "outputId": "7d861926-18b8-49a6-9bd0-04094cb62c9c"
      },
      "execution_count": null,
      "outputs": [
        {
          "output_type": "execute_result",
          "data": {
            "text/plain": [
              "Motor\n",
              "C        40\n",
              "A        36\n",
              "B        36\n",
              "E        33\n",
              "D        22\n",
              "dtype: int64"
            ]
          },
          "metadata": {},
          "execution_count": 13
        }
      ]
    },
    {
      "cell_type": "code",
      "source": [
        "df[['Screw']].value_counts()"
      ],
      "metadata": {
        "colab": {
          "base_uri": "https://localhost:8080/"
        },
        "id": "zPVhOg9bmwEB",
        "outputId": "ebf09201-cb27-4bcb-f0c3-9bb55c53a3b0"
      },
      "execution_count": null,
      "outputs": [
        {
          "output_type": "execute_result",
          "data": {
            "text/plain": [
              "Screw\n",
              "A        42\n",
              "B        35\n",
              "C        31\n",
              "D        30\n",
              "E        29\n",
              "dtype: int64"
            ]
          },
          "metadata": {},
          "execution_count": 14
        }
      ]
    },
    {
      "cell_type": "markdown",
      "source": [
        "## Datad Processing\n",
        " Encoding of Categorial Features"
      ],
      "metadata": {
        "id": "BWcVzBOrnVup"
      }
    },
    {
      "cell_type": "code",
      "source": [
        "df.replace({'Motor': {'A':0, 'B':1, 'C':2, 'D' : 3, 'E': 4}}, inplace = True)"
      ],
      "metadata": {
        "id": "VdjRP8_ynb5u"
      },
      "execution_count": null,
      "outputs": []
    },
    {
      "cell_type": "code",
      "source": [
        "df.replace({'Screw': {'A':0, 'B':1, 'C':2, 'D' : 3, 'E': 4}}, inplace = True)"
      ],
      "metadata": {
        "id": "-J9TZtAeoD3Y"
      },
      "execution_count": null,
      "outputs": []
    },
    {
      "cell_type": "markdown",
      "source": [
        "## Target variable = y\n",
        "## Feature variable = x"
      ],
      "metadata": {
        "id": "PQuoLkJqoWxY"
      }
    },
    {
      "cell_type": "code",
      "source": [
        "y = df['Class']"
      ],
      "metadata": {
        "id": "BSkSQkLvo0Zc"
      },
      "execution_count": null,
      "outputs": []
    },
    {
      "cell_type": "code",
      "source": [
        "y.shape"
      ],
      "metadata": {
        "colab": {
          "base_uri": "https://localhost:8080/"
        },
        "id": "FclMn20upAd9",
        "outputId": "313613e0-04b9-44f9-eed2-8a42dddd8dd3"
      },
      "execution_count": null,
      "outputs": [
        {
          "output_type": "execute_result",
          "data": {
            "text/plain": [
              "(167,)"
            ]
          },
          "metadata": {},
          "execution_count": 18
        }
      ]
    },
    {
      "cell_type": "code",
      "source": [
        "y"
      ],
      "metadata": {
        "colab": {
          "base_uri": "https://localhost:8080/"
        },
        "id": "ku3O8fb-pDvf",
        "outputId": "fad627ec-bb6f-420a-9888-e722b557c453"
      },
      "execution_count": null,
      "outputs": [
        {
          "output_type": "execute_result",
          "data": {
            "text/plain": [
              "0       4\n",
              "1      11\n",
              "2       6\n",
              "3      48\n",
              "4       6\n",
              "       ..\n",
              "162    44\n",
              "163    40\n",
              "164    25\n",
              "165    44\n",
              "166    20\n",
              "Name: Class, Length: 167, dtype: int64"
            ]
          },
          "metadata": {},
          "execution_count": 19
        }
      ]
    },
    {
      "cell_type": "code",
      "source": [
        " X = df[['Motor', 'Screw', 'Pgain', 'Vgain']]"
      ],
      "metadata": {
        "id": "Do3eI9umpH8N"
      },
      "execution_count": null,
      "outputs": []
    },
    {
      "cell_type": "code",
      "source": [
        "X = df.drop('Class', axis = 1)"
      ],
      "metadata": {
        "id": "wPuungOoplyr"
      },
      "execution_count": null,
      "outputs": []
    },
    {
      "cell_type": "code",
      "source": [
        "X.shape"
      ],
      "metadata": {
        "colab": {
          "base_uri": "https://localhost:8080/"
        },
        "id": "UTtcDM4Kp5R4",
        "outputId": "95b6764c-5a31-407d-c3d8-7b429e827cac"
      },
      "execution_count": null,
      "outputs": [
        {
          "output_type": "execute_result",
          "data": {
            "text/plain": [
              "(167, 4)"
            ]
          },
          "metadata": {},
          "execution_count": 22
        }
      ]
    },
    {
      "cell_type": "code",
      "source": [
        "X"
      ],
      "metadata": {
        "colab": {
          "base_uri": "https://localhost:8080/",
          "height": 424
        },
        "id": "7uCYmlyAqDht",
        "outputId": "f9c15cb9-cc68-42e4-e9d9-f0b2ca39df85"
      },
      "execution_count": null,
      "outputs": [
        {
          "output_type": "execute_result",
          "data": {
            "text/plain": [
              "     Motor  Screw  Pgain  Vgain\n",
              "0        4      4      5      4\n",
              "1        1      3      6      5\n",
              "2        3      3      4      3\n",
              "3        1      0      3      2\n",
              "4        3      1      6      5\n",
              "..     ...    ...    ...    ...\n",
              "162      1      2      3      2\n",
              "163      1      4      3      1\n",
              "164      2      3      4      3\n",
              "165      0      1      3      2\n",
              "166      0      0      6      5\n",
              "\n",
              "[167 rows x 4 columns]"
            ],
            "text/html": [
              "\n",
              "\n",
              "  <div id=\"df-bea965e4-0da6-4711-a422-04b327386843\">\n",
              "    <div class=\"colab-df-container\">\n",
              "      <div>\n",
              "<style scoped>\n",
              "    .dataframe tbody tr th:only-of-type {\n",
              "        vertical-align: middle;\n",
              "    }\n",
              "\n",
              "    .dataframe tbody tr th {\n",
              "        vertical-align: top;\n",
              "    }\n",
              "\n",
              "    .dataframe thead th {\n",
              "        text-align: right;\n",
              "    }\n",
              "</style>\n",
              "<table border=\"1\" class=\"dataframe\">\n",
              "  <thead>\n",
              "    <tr style=\"text-align: right;\">\n",
              "      <th></th>\n",
              "      <th>Motor</th>\n",
              "      <th>Screw</th>\n",
              "      <th>Pgain</th>\n",
              "      <th>Vgain</th>\n",
              "    </tr>\n",
              "  </thead>\n",
              "  <tbody>\n",
              "    <tr>\n",
              "      <th>0</th>\n",
              "      <td>4</td>\n",
              "      <td>4</td>\n",
              "      <td>5</td>\n",
              "      <td>4</td>\n",
              "    </tr>\n",
              "    <tr>\n",
              "      <th>1</th>\n",
              "      <td>1</td>\n",
              "      <td>3</td>\n",
              "      <td>6</td>\n",
              "      <td>5</td>\n",
              "    </tr>\n",
              "    <tr>\n",
              "      <th>2</th>\n",
              "      <td>3</td>\n",
              "      <td>3</td>\n",
              "      <td>4</td>\n",
              "      <td>3</td>\n",
              "    </tr>\n",
              "    <tr>\n",
              "      <th>3</th>\n",
              "      <td>1</td>\n",
              "      <td>0</td>\n",
              "      <td>3</td>\n",
              "      <td>2</td>\n",
              "    </tr>\n",
              "    <tr>\n",
              "      <th>4</th>\n",
              "      <td>3</td>\n",
              "      <td>1</td>\n",
              "      <td>6</td>\n",
              "      <td>5</td>\n",
              "    </tr>\n",
              "    <tr>\n",
              "      <th>...</th>\n",
              "      <td>...</td>\n",
              "      <td>...</td>\n",
              "      <td>...</td>\n",
              "      <td>...</td>\n",
              "    </tr>\n",
              "    <tr>\n",
              "      <th>162</th>\n",
              "      <td>1</td>\n",
              "      <td>2</td>\n",
              "      <td>3</td>\n",
              "      <td>2</td>\n",
              "    </tr>\n",
              "    <tr>\n",
              "      <th>163</th>\n",
              "      <td>1</td>\n",
              "      <td>4</td>\n",
              "      <td>3</td>\n",
              "      <td>1</td>\n",
              "    </tr>\n",
              "    <tr>\n",
              "      <th>164</th>\n",
              "      <td>2</td>\n",
              "      <td>3</td>\n",
              "      <td>4</td>\n",
              "      <td>3</td>\n",
              "    </tr>\n",
              "    <tr>\n",
              "      <th>165</th>\n",
              "      <td>0</td>\n",
              "      <td>1</td>\n",
              "      <td>3</td>\n",
              "      <td>2</td>\n",
              "    </tr>\n",
              "    <tr>\n",
              "      <th>166</th>\n",
              "      <td>0</td>\n",
              "      <td>0</td>\n",
              "      <td>6</td>\n",
              "      <td>5</td>\n",
              "    </tr>\n",
              "  </tbody>\n",
              "</table>\n",
              "<p>167 rows × 4 columns</p>\n",
              "</div>\n",
              "      <button class=\"colab-df-convert\" onclick=\"convertToInteractive('df-bea965e4-0da6-4711-a422-04b327386843')\"\n",
              "              title=\"Convert this dataframe to an interactive table.\"\n",
              "              style=\"display:none;\">\n",
              "\n",
              "  <svg xmlns=\"http://www.w3.org/2000/svg\" height=\"24px\"viewBox=\"0 0 24 24\"\n",
              "       width=\"24px\">\n",
              "    <path d=\"M0 0h24v24H0V0z\" fill=\"none\"/>\n",
              "    <path d=\"M18.56 5.44l.94 2.06.94-2.06 2.06-.94-2.06-.94-.94-2.06-.94 2.06-2.06.94zm-11 1L8.5 8.5l.94-2.06 2.06-.94-2.06-.94L8.5 2.5l-.94 2.06-2.06.94zm10 10l.94 2.06.94-2.06 2.06-.94-2.06-.94-.94-2.06-.94 2.06-2.06.94z\"/><path d=\"M17.41 7.96l-1.37-1.37c-.4-.4-.92-.59-1.43-.59-.52 0-1.04.2-1.43.59L10.3 9.45l-7.72 7.72c-.78.78-.78 2.05 0 2.83L4 21.41c.39.39.9.59 1.41.59.51 0 1.02-.2 1.41-.59l7.78-7.78 2.81-2.81c.8-.78.8-2.07 0-2.86zM5.41 20L4 18.59l7.72-7.72 1.47 1.35L5.41 20z\"/>\n",
              "  </svg>\n",
              "      </button>\n",
              "\n",
              "\n",
              "\n",
              "    <div id=\"df-c32019e4-91b4-44dc-820e-371cd4320628\">\n",
              "      <button class=\"colab-df-quickchart\" onclick=\"quickchart('df-c32019e4-91b4-44dc-820e-371cd4320628')\"\n",
              "              title=\"Suggest charts.\"\n",
              "              style=\"display:none;\">\n",
              "\n",
              "<svg xmlns=\"http://www.w3.org/2000/svg\" height=\"24px\"viewBox=\"0 0 24 24\"\n",
              "     width=\"24px\">\n",
              "    <g>\n",
              "        <path d=\"M19 3H5c-1.1 0-2 .9-2 2v14c0 1.1.9 2 2 2h14c1.1 0 2-.9 2-2V5c0-1.1-.9-2-2-2zM9 17H7v-7h2v7zm4 0h-2V7h2v10zm4 0h-2v-4h2v4z\"/>\n",
              "    </g>\n",
              "</svg>\n",
              "      </button>\n",
              "    </div>\n",
              "\n",
              "<style>\n",
              "  .colab-df-quickchart {\n",
              "    background-color: #E8F0FE;\n",
              "    border: none;\n",
              "    border-radius: 50%;\n",
              "    cursor: pointer;\n",
              "    display: none;\n",
              "    fill: #1967D2;\n",
              "    height: 32px;\n",
              "    padding: 0 0 0 0;\n",
              "    width: 32px;\n",
              "  }\n",
              "\n",
              "  .colab-df-quickchart:hover {\n",
              "    background-color: #E2EBFA;\n",
              "    box-shadow: 0px 1px 2px rgba(60, 64, 67, 0.3), 0px 1px 3px 1px rgba(60, 64, 67, 0.15);\n",
              "    fill: #174EA6;\n",
              "  }\n",
              "\n",
              "  [theme=dark] .colab-df-quickchart {\n",
              "    background-color: #3B4455;\n",
              "    fill: #D2E3FC;\n",
              "  }\n",
              "\n",
              "  [theme=dark] .colab-df-quickchart:hover {\n",
              "    background-color: #434B5C;\n",
              "    box-shadow: 0px 1px 3px 1px rgba(0, 0, 0, 0.15);\n",
              "    filter: drop-shadow(0px 1px 2px rgba(0, 0, 0, 0.3));\n",
              "    fill: #FFFFFF;\n",
              "  }\n",
              "</style>\n",
              "\n",
              "    <script>\n",
              "      async function quickchart(key) {\n",
              "        const containerElement = document.querySelector('#' + key);\n",
              "        const charts = await google.colab.kernel.invokeFunction(\n",
              "            'suggestCharts', [key], {});\n",
              "      }\n",
              "    </script>\n",
              "\n",
              "      <script>\n",
              "\n",
              "function displayQuickchartButton(domScope) {\n",
              "  let quickchartButtonEl =\n",
              "    domScope.querySelector('#df-c32019e4-91b4-44dc-820e-371cd4320628 button.colab-df-quickchart');\n",
              "  quickchartButtonEl.style.display =\n",
              "    google.colab.kernel.accessAllowed ? 'block' : 'none';\n",
              "}\n",
              "\n",
              "        displayQuickchartButton(document);\n",
              "      </script>\n",
              "      <style>\n",
              "    .colab-df-container {\n",
              "      display:flex;\n",
              "      flex-wrap:wrap;\n",
              "      gap: 12px;\n",
              "    }\n",
              "\n",
              "    .colab-df-convert {\n",
              "      background-color: #E8F0FE;\n",
              "      border: none;\n",
              "      border-radius: 50%;\n",
              "      cursor: pointer;\n",
              "      display: none;\n",
              "      fill: #1967D2;\n",
              "      height: 32px;\n",
              "      padding: 0 0 0 0;\n",
              "      width: 32px;\n",
              "    }\n",
              "\n",
              "    .colab-df-convert:hover {\n",
              "      background-color: #E2EBFA;\n",
              "      box-shadow: 0px 1px 2px rgba(60, 64, 67, 0.3), 0px 1px 3px 1px rgba(60, 64, 67, 0.15);\n",
              "      fill: #174EA6;\n",
              "    }\n",
              "\n",
              "    [theme=dark] .colab-df-convert {\n",
              "      background-color: #3B4455;\n",
              "      fill: #D2E3FC;\n",
              "    }\n",
              "\n",
              "    [theme=dark] .colab-df-convert:hover {\n",
              "      background-color: #434B5C;\n",
              "      box-shadow: 0px 1px 3px 1px rgba(0, 0, 0, 0.15);\n",
              "      filter: drop-shadow(0px 1px 2px rgba(0, 0, 0, 0.3));\n",
              "      fill: #FFFFFF;\n",
              "    }\n",
              "  </style>\n",
              "\n",
              "      <script>\n",
              "        const buttonEl =\n",
              "          document.querySelector('#df-bea965e4-0da6-4711-a422-04b327386843 button.colab-df-convert');\n",
              "        buttonEl.style.display =\n",
              "          google.colab.kernel.accessAllowed ? 'block' : 'none';\n",
              "\n",
              "        async function convertToInteractive(key) {\n",
              "          const element = document.querySelector('#df-bea965e4-0da6-4711-a422-04b327386843');\n",
              "          const dataTable =\n",
              "            await google.colab.kernel.invokeFunction('convertToInteractive',\n",
              "                                                     [key], {});\n",
              "          if (!dataTable) return;\n",
              "\n",
              "          const docLinkHtml = 'Like what you see? Visit the ' +\n",
              "            '<a target=\"_blank\" href=https://colab.research.google.com/notebooks/data_table.ipynb>data table notebook</a>'\n",
              "            + ' to learn more about interactive tables.';\n",
              "          element.innerHTML = '';\n",
              "          dataTable['output_type'] = 'display_data';\n",
              "          await google.colab.output.renderOutput(dataTable, element);\n",
              "          const docLink = document.createElement('div');\n",
              "          docLink.innerHTML = docLinkHtml;\n",
              "          element.appendChild(docLink);\n",
              "        }\n",
              "      </script>\n",
              "    </div>\n",
              "  </div>\n"
            ]
          },
          "metadata": {},
          "execution_count": 23
        }
      ]
    },
    {
      "cell_type": "markdown",
      "source": [
        "## **Train Test Split**"
      ],
      "metadata": {
        "id": "cdPr3ExCqMWT"
      }
    },
    {
      "cell_type": "code",
      "source": [
        "from sklearn.model_selection import train_test_split"
      ],
      "metadata": {
        "id": "NAyvmKM9qWty"
      },
      "execution_count": null,
      "outputs": []
    },
    {
      "cell_type": "code",
      "source": [
        "X_train , X_test, y_train, y_test = train_test_split(X,y, test_size = 0.3, random_state=2529)"
      ],
      "metadata": {
        "id": "capn_hYoqggv"
      },
      "execution_count": null,
      "outputs": []
    },
    {
      "cell_type": "code",
      "source": [
        "X_train.shape, X_test.shape,  y_train.shape, y_test.shape"
      ],
      "metadata": {
        "colab": {
          "base_uri": "https://localhost:8080/"
        },
        "id": "d9QVw_ODq9Jg",
        "outputId": "a770c0ad-63b6-466e-9b0d-fe8d1a3caeeb"
      },
      "execution_count": null,
      "outputs": [
        {
          "output_type": "execute_result",
          "data": {
            "text/plain": [
              "((116, 4), (51, 4), (116,), (51,))"
            ]
          },
          "metadata": {},
          "execution_count": 27
        }
      ]
    },
    {
      "cell_type": "markdown",
      "source": [
        "## Modeling"
      ],
      "metadata": {
        "id": "i1uIKUElrkdj"
      }
    },
    {
      "cell_type": "code",
      "source": [
        "from sklearn.linear_model import LinearRegression"
      ],
      "metadata": {
        "id": "B7v6m3THroBG"
      },
      "execution_count": null,
      "outputs": []
    },
    {
      "cell_type": "code",
      "source": [
        "lr = LinearRegression()"
      ],
      "metadata": {
        "id": "C9X8BfUnsExw"
      },
      "execution_count": null,
      "outputs": []
    },
    {
      "cell_type": "code",
      "source": [
        "lr.fit(X_train, y_train)"
      ],
      "metadata": {
        "colab": {
          "base_uri": "https://localhost:8080/",
          "height": 52
        },
        "id": "jbtrGmdGsM5p",
        "outputId": "e1b51aee-4474-4fd4-c14a-6278379d686f"
      },
      "execution_count": null,
      "outputs": [
        {
          "output_type": "execute_result",
          "data": {
            "text/plain": [
              "LinearRegression()"
            ],
            "text/html": [
              "<style>#sk-container-id-1 {color: black;background-color: white;}#sk-container-id-1 pre{padding: 0;}#sk-container-id-1 div.sk-toggleable {background-color: white;}#sk-container-id-1 label.sk-toggleable__label {cursor: pointer;display: block;width: 100%;margin-bottom: 0;padding: 0.3em;box-sizing: border-box;text-align: center;}#sk-container-id-1 label.sk-toggleable__label-arrow:before {content: \"▸\";float: left;margin-right: 0.25em;color: #696969;}#sk-container-id-1 label.sk-toggleable__label-arrow:hover:before {color: black;}#sk-container-id-1 div.sk-estimator:hover label.sk-toggleable__label-arrow:before {color: black;}#sk-container-id-1 div.sk-toggleable__content {max-height: 0;max-width: 0;overflow: hidden;text-align: left;background-color: #f0f8ff;}#sk-container-id-1 div.sk-toggleable__content pre {margin: 0.2em;color: black;border-radius: 0.25em;background-color: #f0f8ff;}#sk-container-id-1 input.sk-toggleable__control:checked~div.sk-toggleable__content {max-height: 200px;max-width: 100%;overflow: auto;}#sk-container-id-1 input.sk-toggleable__control:checked~label.sk-toggleable__label-arrow:before {content: \"▾\";}#sk-container-id-1 div.sk-estimator input.sk-toggleable__control:checked~label.sk-toggleable__label {background-color: #d4ebff;}#sk-container-id-1 div.sk-label input.sk-toggleable__control:checked~label.sk-toggleable__label {background-color: #d4ebff;}#sk-container-id-1 input.sk-hidden--visually {border: 0;clip: rect(1px 1px 1px 1px);clip: rect(1px, 1px, 1px, 1px);height: 1px;margin: -1px;overflow: hidden;padding: 0;position: absolute;width: 1px;}#sk-container-id-1 div.sk-estimator {font-family: monospace;background-color: #f0f8ff;border: 1px dotted black;border-radius: 0.25em;box-sizing: border-box;margin-bottom: 0.5em;}#sk-container-id-1 div.sk-estimator:hover {background-color: #d4ebff;}#sk-container-id-1 div.sk-parallel-item::after {content: \"\";width: 100%;border-bottom: 1px solid gray;flex-grow: 1;}#sk-container-id-1 div.sk-label:hover label.sk-toggleable__label {background-color: #d4ebff;}#sk-container-id-1 div.sk-serial::before {content: \"\";position: absolute;border-left: 1px solid gray;box-sizing: border-box;top: 0;bottom: 0;left: 50%;z-index: 0;}#sk-container-id-1 div.sk-serial {display: flex;flex-direction: column;align-items: center;background-color: white;padding-right: 0.2em;padding-left: 0.2em;position: relative;}#sk-container-id-1 div.sk-item {position: relative;z-index: 1;}#sk-container-id-1 div.sk-parallel {display: flex;align-items: stretch;justify-content: center;background-color: white;position: relative;}#sk-container-id-1 div.sk-item::before, #sk-container-id-1 div.sk-parallel-item::before {content: \"\";position: absolute;border-left: 1px solid gray;box-sizing: border-box;top: 0;bottom: 0;left: 50%;z-index: -1;}#sk-container-id-1 div.sk-parallel-item {display: flex;flex-direction: column;z-index: 1;position: relative;background-color: white;}#sk-container-id-1 div.sk-parallel-item:first-child::after {align-self: flex-end;width: 50%;}#sk-container-id-1 div.sk-parallel-item:last-child::after {align-self: flex-start;width: 50%;}#sk-container-id-1 div.sk-parallel-item:only-child::after {width: 0;}#sk-container-id-1 div.sk-dashed-wrapped {border: 1px dashed gray;margin: 0 0.4em 0.5em 0.4em;box-sizing: border-box;padding-bottom: 0.4em;background-color: white;}#sk-container-id-1 div.sk-label label {font-family: monospace;font-weight: bold;display: inline-block;line-height: 1.2em;}#sk-container-id-1 div.sk-label-container {text-align: center;}#sk-container-id-1 div.sk-container {/* jupyter's `normalize.less` sets `[hidden] { display: none; }` but bootstrap.min.css set `[hidden] { display: none !important; }` so we also need the `!important` here to be able to override the default hidden behavior on the sphinx rendered scikit-learn.org. See: https://github.com/scikit-learn/scikit-learn/issues/21755 */display: inline-block !important;position: relative;}#sk-container-id-1 div.sk-text-repr-fallback {display: none;}</style><div id=\"sk-container-id-1\" class=\"sk-top-container\"><div class=\"sk-text-repr-fallback\"><pre>LinearRegression()</pre><b>In a Jupyter environment, please rerun this cell to show the HTML representation or trust the notebook. <br />On GitHub, the HTML representation is unable to render, please try loading this page with nbviewer.org.</b></div><div class=\"sk-container\" hidden><div class=\"sk-item\"><div class=\"sk-estimator sk-toggleable\"><input class=\"sk-toggleable__control sk-hidden--visually\" id=\"sk-estimator-id-1\" type=\"checkbox\" checked><label for=\"sk-estimator-id-1\" class=\"sk-toggleable__label sk-toggleable__label-arrow\">LinearRegression</label><div class=\"sk-toggleable__content\"><pre>LinearRegression()</pre></div></div></div></div></div>"
            ]
          },
          "metadata": {},
          "execution_count": 31
        }
      ]
    },
    {
      "cell_type": "markdown",
      "source": [
        "## Model Prediction"
      ],
      "metadata": {
        "id": "lxzwfFmZt9-4"
      }
    },
    {
      "cell_type": "code",
      "source": [
        "y_pred = lr.predict(X_test)"
      ],
      "metadata": {
        "id": "7WV5lrIyuCb3"
      },
      "execution_count": null,
      "outputs": []
    },
    {
      "cell_type": "code",
      "source": [
        "y_pred.shape"
      ],
      "metadata": {
        "colab": {
          "base_uri": "https://localhost:8080/"
        },
        "id": "7X1ebYxQuM-V",
        "outputId": "14664226-9bf4-41da-d4c5-13a4c16d8739"
      },
      "execution_count": null,
      "outputs": [
        {
          "output_type": "execute_result",
          "data": {
            "text/plain": [
              "(51,)"
            ]
          },
          "metadata": {},
          "execution_count": 35
        }
      ]
    },
    {
      "cell_type": "code",
      "source": [
        "y_pred"
      ],
      "metadata": {
        "colab": {
          "base_uri": "https://localhost:8080/"
        },
        "id": "l3gGjv8BuRoN",
        "outputId": "d1c65229-2473-4121-a2bd-a2e318f90a91"
      },
      "execution_count": null,
      "outputs": [
        {
          "output_type": "execute_result",
          "data": {
            "text/plain": [
              "array([24.55945258, 30.98765106, 18.54485477, 25.51524243, 38.56082023,\n",
              "       23.52007775, 11.61947065, 20.03335614, 40.60404401, 41.7009556 ,\n",
              "       13.66269443, 26.01242807, 16.50163099, 16.54663453, 21.92598051,\n",
              "       22.52570646, -5.46449561, 30.68912392, 32.7323477 ,  1.41282941,\n",
              "       33.97718702, 31.63543611, 33.52806048, 30.04133887, 19.38557109,\n",
              "        6.49364826, 28.5528375 , 17.04382017, 25.06611589,  3.50411229,\n",
              "       30.59606128, 23.67067716, 35.72188367, 32.08456265, 12.46018697,\n",
              "        3.6547117 , 23.47201865, 33.03087484, 17.49294672, 37.61450804,\n",
              "       27.54898855, 22.07657992, 11.51387478,  9.470651  , 30.53852451,\n",
              "       28.64590014, 33.67865989,  4.60102388, 24.1198037 , 21.13026773,\n",
              "       25.71390094])"
            ]
          },
          "metadata": {},
          "execution_count": 36
        }
      ]
    },
    {
      "cell_type": "markdown",
      "source": [
        "## Model Evaluation"
      ],
      "metadata": {
        "id": "SdQjoxFItArb"
      }
    },
    {
      "cell_type": "code",
      "source": [
        "from sklearn.metrics import mean_squared_error, mean_absolute_error, r2_score"
      ],
      "metadata": {
        "id": "4JF0UIOctFmG"
      },
      "execution_count": null,
      "outputs": []
    },
    {
      "cell_type": "code",
      "source": [
        "mean_squared_error(y_test,y_pred)"
      ],
      "metadata": {
        "colab": {
          "base_uri": "https://localhost:8080/"
        },
        "id": "EqcKuQw2tV87",
        "outputId": "57e763d5-7c36-4bf1-b5b5-6c7816fbad77"
      },
      "execution_count": null,
      "outputs": [
        {
          "output_type": "execute_result",
          "data": {
            "text/plain": [
              "66.03589175595563"
            ]
          },
          "metadata": {},
          "execution_count": 37
        }
      ]
    },
    {
      "cell_type": "markdown",
      "source": [
        "# **Prediction**\n",
        "###Visualization of Actual vs Predicted Results"
      ],
      "metadata": {
        "id": "hM-6px9Cucfw"
      }
    },
    {
      "cell_type": "code",
      "source": [
        "import matplotlib.pyplot as plt\n",
        "plt.scatter(y_test, y_pred)\n",
        "plt.xlabel(\"Actual\")\n",
        "plt.ylabel(\"Predicted\")\n",
        "plt.title(\"Actual vs Predicted\")\n",
        "plt.show()"
      ],
      "metadata": {
        "colab": {
          "base_uri": "https://localhost:8080/",
          "height": 472
        },
        "id": "eew8i9AsuwBv",
        "outputId": "955e44cc-f4eb-4bd5-cba2-20d2dcaa0727"
      },
      "execution_count": null,
      "outputs": [
        {
          "output_type": "display_data",
          "data": {
            "text/plain": [
              "<Figure size 640x480 with 1 Axes>"
            ],
            "image/png": "[encoded data removed]"
          },
          "metadata": {}
        }
      ]
    },
    {
      "cell_type": "markdown",
      "source": [
        "## Now we get some Future Predictions\n",
        "**Now we will select a random sample from existing dataset as new value**\n",
        "  1. Extract a random row using function\n",
        "  2. Seprate X and y\n",
        "  3. Standardize X\n",
        "  4. Predict"
      ],
      "metadata": {
        "id": "JZaGlQ0rvyFc"
      }
    },
    {
      "cell_type": "code",
      "source": [
        "X_new = df.sample(1)"
      ],
      "metadata": {
        "id": "GpZ2Deqpwub8"
      },
      "execution_count": null,
      "outputs": []
    },
    {
      "cell_type": "code",
      "source": [
        "X_new"
      ],
      "metadata": {
        "colab": {
          "base_uri": "https://localhost:8080/",
          "height": 81
        },
        "id": "vy4hgkOBw1GP",
        "outputId": "175dd4d1-fce1-42fb-e85d-d5ed42e29ea8"
      },
      "execution_count": null,
      "outputs": [
        {
          "output_type": "execute_result",
          "data": {
            "text/plain": [
              "     Motor  Screw  Pgain  Vgain  Class\n",
              "158      3      1      4      3     13"
            ],
            "text/html": [
              "\n",
              "\n",
              "  <div id=\"df-60325d0d-b9ae-4231-881d-aa6e01218beb\">\n",
              "    <div class=\"colab-df-container\">\n",
              "      <div>\n",
              "<style scoped>\n",
              "    .dataframe tbody tr th:only-of-type {\n",
              "        vertical-align: middle;\n",
              "    }\n",
              "\n",
              "    .dataframe tbody tr th {\n",
              "        vertical-align: top;\n",
              "    }\n",
              "\n",
              "    .dataframe thead th {\n",
              "        text-align: right;\n",
              "    }\n",
              "</style>\n",
              "<table border=\"1\" class=\"dataframe\">\n",
              "  <thead>\n",
              "    <tr style=\"text-align: right;\">\n",
              "      <th></th>\n",
              "      <th>Motor</th>\n",
              "      <th>Screw</th>\n",
              "      <th>Pgain</th>\n",
              "      <th>Vgain</th>\n",
              "      <th>Class</th>\n",
              "    </tr>\n",
              "  </thead>\n",
              "  <tbody>\n",
              "    <tr>\n",
              "      <th>158</th>\n",
              "      <td>3</td>\n",
              "      <td>1</td>\n",
              "      <td>4</td>\n",
              "      <td>3</td>\n",
              "      <td>13</td>\n",
              "    </tr>\n",
              "  </tbody>\n",
              "</table>\n",
              "</div>\n",
              "      <button class=\"colab-df-convert\" onclick=\"convertToInteractive('df-60325d0d-b9ae-4231-881d-aa6e01218beb')\"\n",
              "              title=\"Convert this dataframe to an interactive table.\"\n",
              "              style=\"display:none;\">\n",
              "\n",
              "  <svg xmlns=\"http://www.w3.org/2000/svg\" height=\"24px\"viewBox=\"0 0 24 24\"\n",
              "       width=\"24px\">\n",
              "    <path d=\"M0 0h24v24H0V0z\" fill=\"none\"/>\n",
              "    <path d=\"M18.56 5.44l.94 2.06.94-2.06 2.06-.94-2.06-.94-.94-2.06-.94 2.06-2.06.94zm-11 1L8.5 8.5l.94-2.06 2.06-.94-2.06-.94L8.5 2.5l-.94 2.06-2.06.94zm10 10l.94 2.06.94-2.06 2.06-.94-2.06-.94-.94-2.06-.94 2.06-2.06.94z\"/><path d=\"M17.41 7.96l-1.37-1.37c-.4-.4-.92-.59-1.43-.59-.52 0-1.04.2-1.43.59L10.3 9.45l-7.72 7.72c-.78.78-.78 2.05 0 2.83L4 21.41c.39.39.9.59 1.41.59.51 0 1.02-.2 1.41-.59l7.78-7.78 2.81-2.81c.8-.78.8-2.07 0-2.86zM5.41 20L4 18.59l7.72-7.72 1.47 1.35L5.41 20z\"/>\n",
              "  </svg>\n",
              "      </button>\n",
              "\n",
              "\n",
              "\n",
              "    <div id=\"df-b3bc029c-43bd-48e8-bddd-657740d3dc86\">\n",
              "      <button class=\"colab-df-quickchart\" onclick=\"quickchart('df-b3bc029c-43bd-48e8-bddd-657740d3dc86')\"\n",
              "              title=\"Suggest charts.\"\n",
              "              style=\"display:none;\">\n",
              "\n",
              "<svg xmlns=\"http://www.w3.org/2000/svg\" height=\"24px\"viewBox=\"0 0 24 24\"\n",
              "     width=\"24px\">\n",
              "    <g>\n",
              "        <path d=\"M19 3H5c-1.1 0-2 .9-2 2v14c0 1.1.9 2 2 2h14c1.1 0 2-.9 2-2V5c0-1.1-.9-2-2-2zM9 17H7v-7h2v7zm4 0h-2V7h2v10zm4 0h-2v-4h2v4z\"/>\n",
              "    </g>\n",
              "</svg>\n",
              "      </button>\n",
              "    </div>\n",
              "\n",
              "<style>\n",
              "  .colab-df-quickchart {\n",
              "    background-color: #E8F0FE;\n",
              "    border: none;\n",
              "    border-radius: 50%;\n",
              "    cursor: pointer;\n",
              "    display: none;\n",
              "    fill: #1967D2;\n",
              "    height: 32px;\n",
              "    padding: 0 0 0 0;\n",
              "    width: 32px;\n",
              "  }\n",
              "\n",
              "  .colab-df-quickchart:hover {\n",
              "    background-color: #E2EBFA;\n",
              "    box-shadow: 0px 1px 2px rgba(60, 64, 67, 0.3), 0px 1px 3px 1px rgba(60, 64, 67, 0.15);\n",
              "    fill: #174EA6;\n",
              "  }\n",
              "\n",
              "  [theme=dark] .colab-df-quickchart {\n",
              "    background-color: #3B4455;\n",
              "    fill: #D2E3FC;\n",
              "  }\n",
              "\n",
              "  [theme=dark] .colab-df-quickchart:hover {\n",
              "    background-color: #434B5C;\n",
              "    box-shadow: 0px 1px 3px 1px rgba(0, 0, 0, 0.15);\n",
              "    filter: drop-shadow(0px 1px 2px rgba(0, 0, 0, 0.3));\n",
              "    fill: #FFFFFF;\n",
              "  }\n",
              "</style>\n",
              "\n",
              "    <script>\n",
              "      async function quickchart(key) {\n",
              "        const containerElement = document.querySelector('#' + key);\n",
              "        const charts = await google.colab.kernel.invokeFunction(\n",
              "            'suggestCharts', [key], {});\n",
              "      }\n",
              "    </script>\n",
              "\n",
              "      <script>\n",
              "\n",
              "function displayQuickchartButton(domScope) {\n",
              "  let quickchartButtonEl =\n",
              "    domScope.querySelector('#df-b3bc029c-43bd-48e8-bddd-657740d3dc86 button.colab-df-quickchart');\n",
              "  quickchartButtonEl.style.display =\n",
              "    google.colab.kernel.accessAllowed ? 'block' : 'none';\n",
              "}\n",
              "\n",
              "        displayQuickchartButton(document);\n",
              "      </script>\n",
              "      <style>\n",
              "    .colab-df-container {\n",
              "      display:flex;\n",
              "      flex-wrap:wrap;\n",
              "      gap: 12px;\n",
              "    }\n",
              "\n",
              "    .colab-df-convert {\n",
              "      background-color: #E8F0FE;\n",
              "      border: none;\n",
              "      border-radius: 50%;\n",
              "      cursor: pointer;\n",
              "      display: none;\n",
              "      fill: #1967D2;\n",
              "      height: 32px;\n",
              "      padding: 0 0 0 0;\n",
              "      width: 32px;\n",
              "    }\n",
              "\n",
              "    .colab-df-convert:hover {\n",
              "      background-color: #E2EBFA;\n",
              "      box-shadow: 0px 1px 2px rgba(60, 64, 67, 0.3), 0px 1px 3px 1px rgba(60, 64, 67, 0.15);\n",
              "      fill: #174EA6;\n",
              "    }\n",
              "\n",
              "    [theme=dark] .colab-df-convert {\n",
              "      background-color: #3B4455;\n",
              "      fill: #D2E3FC;\n",
              "    }\n",
              "\n",
              "    [theme=dark] .colab-df-convert:hover {\n",
              "      background-color: #434B5C;\n",
              "      box-shadow: 0px 1px 3px 1px rgba(0, 0, 0, 0.15);\n",
              "      filter: drop-shadow(0px 1px 2px rgba(0, 0, 0, 0.3));\n",
              "      fill: #FFFFFF;\n",
              "    }\n",
              "  </style>\n",
              "\n",
              "      <script>\n",
              "        const buttonEl =\n",
              "          document.querySelector('#df-60325d0d-b9ae-4231-881d-aa6e01218beb button.colab-df-convert');\n",
              "        buttonEl.style.display =\n",
              "          google.colab.kernel.accessAllowed ? 'block' : 'none';\n",
              "\n",
              "        async function convertToInteractive(key) {\n",
              "          const element = document.querySelector('#df-60325d0d-b9ae-4231-881d-aa6e01218beb');\n",
              "          const dataTable =\n",
              "            await google.colab.kernel.invokeFunction('convertToInteractive',\n",
              "                                                     [key], {});\n",
              "          if (!dataTable) return;\n",
              "\n",
              "          const docLinkHtml = 'Like what you see? Visit the ' +\n",
              "            '<a target=\"_blank\" href=https://colab.research.google.com/notebooks/data_table.ipynb>data table notebook</a>'\n",
              "            + ' to learn more about interactive tables.';\n",
              "          element.innerHTML = '';\n",
              "          dataTable['output_type'] = 'display_data';\n",
              "          await google.colab.output.renderOutput(dataTable, element);\n",
              "          const docLink = document.createElement('div');\n",
              "          docLink.innerHTML = docLinkHtml;\n",
              "          element.appendChild(docLink);\n",
              "        }\n",
              "      </script>\n",
              "    </div>\n",
              "  </div>\n"
            ]
          },
          "metadata": {},
          "execution_count": 40
        }
      ]
    },
    {
      "cell_type": "code",
      "source": [
        "X_new.shape"
      ],
      "metadata": {
        "colab": {
          "base_uri": "https://localhost:8080/"
        },
        "id": "R1qgn0nIw7sM",
        "outputId": "42fc228c-ade0-4d98-8a30-7d56c27ded68"
      },
      "execution_count": null,
      "outputs": [
        {
          "output_type": "execute_result",
          "data": {
            "text/plain": [
              "(1, 5)"
            ]
          },
          "metadata": {},
          "execution_count": 41
        }
      ]
    },
    {
      "cell_type": "code",
      "source": [
        "X_new = X_new.drop('Class', axis = 1)"
      ],
      "metadata": {
        "id": "aMcGx6ONxABu"
      },
      "execution_count": null,
      "outputs": []
    },
    {
      "cell_type": "code",
      "source": [
        "X_new"
      ],
      "metadata": {
        "colab": {
          "base_uri": "https://localhost:8080/",
          "height": 81
        },
        "id": "SYxiAn89xMEg",
        "outputId": "a93bc3d7-63d9-4bd2-8b3b-edf563beb9b5"
      },
      "execution_count": null,
      "outputs": [
        {
          "output_type": "execute_result",
          "data": {
            "text/plain": [
              "     Motor  Screw  Pgain  Vgain\n",
              "158      3      1      4      3"
            ],
            "text/html": [
              "\n",
              "\n",
              "  <div id=\"df-952c9f77-cad8-4c6a-8720-cf3419742cb4\">\n",
              "    <div class=\"colab-df-container\">\n",
              "      <div>\n",
              "<style scoped>\n",
              "    .dataframe tbody tr th:only-of-type {\n",
              "        vertical-align: middle;\n",
              "    }\n",
              "\n",
              "    .dataframe tbody tr th {\n",
              "        vertical-align: top;\n",
              "    }\n",
              "\n",
              "    .dataframe thead th {\n",
              "        text-align: right;\n",
              "    }\n",
              "</style>\n",
              "<table border=\"1\" class=\"dataframe\">\n",
              "  <thead>\n",
              "    <tr style=\"text-align: right;\">\n",
              "      <th></th>\n",
              "      <th>Motor</th>\n",
              "      <th>Screw</th>\n",
              "      <th>Pgain</th>\n",
              "      <th>Vgain</th>\n",
              "    </tr>\n",
              "  </thead>\n",
              "  <tbody>\n",
              "    <tr>\n",
              "      <th>158</th>\n",
              "      <td>3</td>\n",
              "      <td>1</td>\n",
              "      <td>4</td>\n",
              "      <td>3</td>\n",
              "    </tr>\n",
              "  </tbody>\n",
              "</table>\n",
              "</div>\n",
              "      <button class=\"colab-df-convert\" onclick=\"convertToInteractive('df-952c9f77-cad8-4c6a-8720-cf3419742cb4')\"\n",
              "              title=\"Convert this dataframe to an interactive table.\"\n",
              "              style=\"display:none;\">\n",
              "\n",
              "  <svg xmlns=\"http://www.w3.org/2000/svg\" height=\"24px\"viewBox=\"0 0 24 24\"\n",
              "       width=\"24px\">\n",
              "    <path d=\"M0 0h24v24H0V0z\" fill=\"none\"/>\n",
              "    <path d=\"M18.56 5.44l.94 2.06.94-2.06 2.06-.94-2.06-.94-.94-2.06-.94 2.06-2.06.94zm-11 1L8.5 8.5l.94-2.06 2.06-.94-2.06-.94L8.5 2.5l-.94 2.06-2.06.94zm10 10l.94 2.06.94-2.06 2.06-.94-2.06-.94-.94-2.06-.94 2.06-2.06.94z\"/><path d=\"M17.41 7.96l-1.37-1.37c-.4-.4-.92-.59-1.43-.59-.52 0-1.04.2-1.43.59L10.3 9.45l-7.72 7.72c-.78.78-.78 2.05 0 2.83L4 21.41c.39.39.9.59 1.41.59.51 0 1.02-.2 1.41-.59l7.78-7.78 2.81-2.81c.8-.78.8-2.07 0-2.86zM5.41 20L4 18.59l7.72-7.72 1.47 1.35L5.41 20z\"/>\n",
              "  </svg>\n",
              "      </button>\n",
              "\n",
              "\n",
              "\n",
              "    <div id=\"df-9cacc4be-515c-4274-a426-efc25800acec\">\n",
              "      <button class=\"colab-df-quickchart\" onclick=\"quickchart('df-9cacc4be-515c-4274-a426-efc25800acec')\"\n",
              "              title=\"Suggest charts.\"\n",
              "              style=\"display:none;\">\n",
              "\n",
              "<svg xmlns=\"http://www.w3.org/2000/svg\" height=\"24px\"viewBox=\"0 0 24 24\"\n",
              "     width=\"24px\">\n",
              "    <g>\n",
              "        <path d=\"M19 3H5c-1.1 0-2 .9-2 2v14c0 1.1.9 2 2 2h14c1.1 0 2-.9 2-2V5c0-1.1-.9-2-2-2zM9 17H7v-7h2v7zm4 0h-2V7h2v10zm4 0h-2v-4h2v4z\"/>\n",
              "    </g>\n",
              "</svg>\n",
              "      </button>\n",
              "    </div>\n",
              "\n",
              "<style>\n",
              "  .colab-df-quickchart {\n",
              "    background-color: #E8F0FE;\n",
              "    border: none;\n",
              "    border-radius: 50%;\n",
              "    cursor: pointer;\n",
              "    display: none;\n",
              "    fill: #1967D2;\n",
              "    height: 32px;\n",
              "    padding: 0 0 0 0;\n",
              "    width: 32px;\n",
              "  }\n",
              "\n",
              "  .colab-df-quickchart:hover {\n",
              "    background-color: #E2EBFA;\n",
              "    box-shadow: 0px 1px 2px rgba(60, 64, 67, 0.3), 0px 1px 3px 1px rgba(60, 64, 67, 0.15);\n",
              "    fill: #174EA6;\n",
              "  }\n",
              "\n",
              "  [theme=dark] .colab-df-quickchart {\n",
              "    background-color: #3B4455;\n",
              "    fill: #D2E3FC;\n",
              "  }\n",
              "\n",
              "  [theme=dark] .colab-df-quickchart:hover {\n",
              "    background-color: #434B5C;\n",
              "    box-shadow: 0px 1px 3px 1px rgba(0, 0, 0, 0.15);\n",
              "    filter: drop-shadow(0px 1px 2px rgba(0, 0, 0, 0.3));\n",
              "    fill: #FFFFFF;\n",
              "  }\n",
              "</style>\n",
              "\n",
              "    <script>\n",
              "      async function quickchart(key) {\n",
              "        const containerElement = document.querySelector('#' + key);\n",
              "        const charts = await google.colab.kernel.invokeFunction(\n",
              "            'suggestCharts', [key], {});\n",
              "      }\n",
              "    </script>\n",
              "\n",
              "      <script>\n",
              "\n",
              "function displayQuickchartButton(domScope) {\n",
              "  let quickchartButtonEl =\n",
              "    domScope.querySelector('#df-9cacc4be-515c-4274-a426-efc25800acec button.colab-df-quickchart');\n",
              "  quickchartButtonEl.style.display =\n",
              "    google.colab.kernel.accessAllowed ? 'block' : 'none';\n",
              "}\n",
              "\n",
              "        displayQuickchartButton(document);\n",
              "      </script>\n",
              "      <style>\n",
              "    .colab-df-container {\n",
              "      display:flex;\n",
              "      flex-wrap:wrap;\n",
              "      gap: 12px;\n",
              "    }\n",
              "\n",
              "    .colab-df-convert {\n",
              "      background-color: #E8F0FE;\n",
              "      border: none;\n",
              "      border-radius: 50%;\n",
              "      cursor: pointer;\n",
              "      display: none;\n",
              "      fill: #1967D2;\n",
              "      height: 32px;\n",
              "      padding: 0 0 0 0;\n",
              "      width: 32px;\n",
              "    }\n",
              "\n",
              "    .colab-df-convert:hover {\n",
              "      background-color: #E2EBFA;\n",
              "      box-shadow: 0px 1px 2px rgba(60, 64, 67, 0.3), 0px 1px 3px 1px rgba(60, 64, 67, 0.15);\n",
              "      fill: #174EA6;\n",
              "    }\n",
              "\n",
              "    [theme=dark] .colab-df-convert {\n",
              "      background-color: #3B4455;\n",
              "      fill: #D2E3FC;\n",
              "    }\n",
              "\n",
              "    [theme=dark] .colab-df-convert:hover {\n",
              "      background-color: #434B5C;\n",
              "      box-shadow: 0px 1px 3px 1px rgba(0, 0, 0, 0.15);\n",
              "      filter: drop-shadow(0px 1px 2px rgba(0, 0, 0, 0.3));\n",
              "      fill: #FFFFFF;\n",
              "    }\n",
              "  </style>\n",
              "\n",
              "      <script>\n",
              "        const buttonEl =\n",
              "          document.querySelector('#df-952c9f77-cad8-4c6a-8720-cf3419742cb4 button.colab-df-convert');\n",
              "        buttonEl.style.display =\n",
              "          google.colab.kernel.accessAllowed ? 'block' : 'none';\n",
              "\n",
              "        async function convertToInteractive(key) {\n",
              "          const element = document.querySelector('#df-952c9f77-cad8-4c6a-8720-cf3419742cb4');\n",
              "          const dataTable =\n",
              "            await google.colab.kernel.invokeFunction('convertToInteractive',\n",
              "                                                     [key], {});\n",
              "          if (!dataTable) return;\n",
              "\n",
              "          const docLinkHtml = 'Like what you see? Visit the ' +\n",
              "            '<a target=\"_blank\" href=https://colab.research.google.com/notebooks/data_table.ipynb>data table notebook</a>'\n",
              "            + ' to learn more about interactive tables.';\n",
              "          element.innerHTML = '';\n",
              "          dataTable['output_type'] = 'display_data';\n",
              "          await google.colab.output.renderOutput(dataTable, element);\n",
              "          const docLink = document.createElement('div');\n",
              "          docLink.innerHTML = docLinkHtml;\n",
              "          element.appendChild(docLink);\n",
              "        }\n",
              "      </script>\n",
              "    </div>\n",
              "  </div>\n"
            ]
          },
          "metadata": {},
          "execution_count": 43
        }
      ]
    },
    {
      "cell_type": "code",
      "source": [
        "X_new.shape"
      ],
      "metadata": {
        "colab": {
          "base_uri": "https://localhost:8080/"
        },
        "id": "iL-VlhezxWlJ",
        "outputId": "aa6a6bd8-dd79-4480-9caf-699458971dba"
      },
      "execution_count": null,
      "outputs": [
        {
          "output_type": "execute_result",
          "data": {
            "text/plain": [
              "(1, 4)"
            ]
          },
          "metadata": {},
          "execution_count": 44
        }
      ]
    },
    {
      "cell_type": "code",
      "source": [
        "y_pred_new = lr.predict(X_new)"
      ],
      "metadata": {
        "id": "hXj659zExdcE"
      },
      "execution_count": null,
      "outputs": []
    },
    {
      "cell_type": "code",
      "source": [
        "y_pred_new"
      ],
      "metadata": {
        "colab": {
          "base_uri": "https://localhost:8080/"
        },
        "id": "IpLm4ZdYxmEz",
        "outputId": "b4a3fda4-367b-4ec1-fbec-293bb8c29c46"
      },
      "execution_count": null,
      "outputs": [
        {
          "output_type": "execute_result",
          "data": {
            "text/plain": [
              "array([25.56330153])"
            ]
          },
          "metadata": {},
          "execution_count": 46
        }
      ]
    }
  ]
}